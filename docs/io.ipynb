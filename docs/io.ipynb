{
 "cells": [
  {
   "cell_type": "markdown",
   "metadata": {},
   "source": [
    "### Input and output\n",
    "\n",
    "Currently, the only supported approach for loading and saving ensembles in `medusa` is via [pickle](https://docs.python.org/3/library/pickle.html). `pickle` is the Python module that serializes and de-serializes Python objects (i.e. converts to/from a binary representation). This is an intentional design choice--as `medusa` matures, we will identify a feasible route for standardization through an extension to the Systems Biology Markup Language (SBML), which is the *de facto* standard for sharing genome-scale metabolic network reconstructions.\n",
    "\n",
    "To load an ensemble, use the `load` function from the `pickle` module:"
   ]
  },
  {
   "cell_type": "code",
   "execution_count": 1,
   "metadata": {},
   "outputs": [],
   "source": [
    "import medusa\n",
    "from pickle import load\n",
    "\n",
    "with open(\"../medusa/test/data/Staphylococcus_aureus_ensemble.pickle\", 'rb') as infile:\n",
    "    ensemble = load(infile)"
   ]
  },
  {
   "cell_type": "markdown",
   "metadata": {},
   "source": [
    "To save an ensemble, you can pickle it with:"
   ]
  },
  {
   "cell_type": "code",
   "execution_count": 2,
   "metadata": {},
   "outputs": [],
   "source": [
    "save_dir = (\"../medusa/test/data/Staphylococcus_aureus_repickled.pickle\")\n",
    "ensemble.to_pickle(save_dir)"
   ]
  },
  {
   "cell_type": "markdown",
   "metadata": {},
   "source": [
    "You can always save the base model for an ensemble using the standard [cobrapy I/O functions](https://cobrapy.readthedocs.io/en/latest/io.html), but keep in mind the states for each feature will be set statically--the model you save will only represent one of the ensemble members, and will likely have many features shut off (e.g. there will be many closed reactions if the features for those reactions are not present in the ensemble member that the state reflects). When publishing ensembles, we recommend including the pickled `medusa` ensemble, an SBML file for the base model, and a spreadsheet of feature states for each member. "
   ]
  }
 ],
 "metadata": {
  "kernelspec": {
   "display_name": "medusa_dev_1",
   "language": "python",
   "name": "medusa_dev_1"
  },
  "language_info": {
   "codemirror_mode": {
    "name": "ipython",
    "version": 3
   },
   "file_extension": ".py",
   "mimetype": "text/x-python",
   "name": "python",
   "nbconvert_exporter": "python",
   "pygments_lexer": "ipython3",
   "version": "3.5.2"
  }
 },
 "nbformat": 4,
 "nbformat_minor": 2
}
