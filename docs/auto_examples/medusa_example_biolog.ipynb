{
  "metadata": {
    "language_info": {
      "mimetype": "text/x-python",
      "name": "python",
      "version": "3.5.2",
      "pygments_lexer": "ipython3",
      "file_extension": ".py",
      "nbconvert_exporter": "python",
      "codemirror_mode": {
        "version": 3,
        "name": "ipython"
      }
    },
    "kernelspec": {
      "language": "python",
      "display_name": "Python 3",
      "name": "python3"
    }
  },
  "nbformat_minor": 0,
  "cells": [
    {
      "metadata": {
        "collapsed": false
      },
      "cell_type": "code",
      "source": [
        "%matplotlib inline"
      ],
      "outputs": [],
      "execution_count": null
    },
    {
      "metadata": {},
      "cell_type": "markdown",
      "source": [
        "\nSyntaxError\n===========\n\nExample script with invalid Python syntax\n\n"
      ]
    },
    {
      "metadata": {
        "collapsed": false
      },
      "cell_type": "code",
      "source": [
        "\"\"\"\nGenerating an ensemble by gapfilling using growth phenotype data\n=========================\n\nIn this example, we demonstrate how to generate an ensemble by gapfilling a model using growth phenotyping data from biolog growth conditions which contain a single Carbon or Nitrogen source.\n\"\"\"\n\n# Load the test model for Staphylococcus aureus, originally generated with ModelSEED\nimport medusa\nfrom medusa.test import create_test_model\nmodel = create_test_model('Saureus_seed')\n\n# Load the biolog data from Plata et al., Nature 2014\nfrom medusa.test import load_biolog_plata\nbiolog_base_composition, biolog_base_dict, biolog_thresholded = load_biolog_plata()\nbiolog_base_composition\n\n# extract the data for just Staphylococcus aureus\ntest_mod_pheno = biolog_thresholded.loc['Staphylococcus aureus']\ntest_mod_pheno = list(test_mod_pheno[test_mod_pheno == True].index)\n\n# load the universal reaction database\nfrom medusa.test import load_universal_modelseed\nfrom cobra.core import Reaction\nuniversal = load_universal_modelseed()\n\n# check for biolog base components in the model and record\n# the metabolites/exchanges that need to be added\nadd_mets = []\nadd_exchanges = []\nfor met in list(biolog_base_dict.keys()):\n    try:\n        model.metabolites.get_by_id(met)\n    except:\n        print('no '+met)\n        add_met = universal.metabolites.get_by_id(met).copy()\n        add_mets.append(add_met)\n\nmodel.add_metabolites(add_mets)\n\nfor met in list(biolog_base_dict.keys()):\n    # Search for exchange reactions\n    try:\n        model.reactions.get_by_id('EX_'+met)\n    except:\n        add_met = model.metabolites.get_by_id(met)\n        ex_rxn = Reaction('EX_' + met)\n        ex_rxn.name = \"Exchange reaction for \" + met\n        ex_rxn.lower_bound = -1000\n        ex_rxn.upper_bound = 1000\n        ex_rxn.add_metabolites({add_met:-1})\n        add_exchanges.append(ex_rxn)\n\nmodel.add_reactions(add_exchanges)\n\n\n# Find metabolites from the biolog data that are missing in the test model\n# and add them from the universal\nmissing_mets = []\nmissing_exchanges = []\nmedia_dicts = {}\nfor met_id in test_mod_pheno:\n    try:\n        model.metabolites.get_by_id(met_id)\n    except:\n        print(met_id + \" was not in model, adding met and exchange reaction\")\n        met = universal.metabolites.get_by_id(met_id).copy()\n        missing_mets.append(met)\n        ex_rxn = Reaction('EX_' + met_id)\n        ex_rxn.name = \"Exchange reaction for \" + met_id\n        ex_rxn.lower_bound = -1000\n        ex_rxn.upper_bound = 1000\n        ex_rxn.add_metabolites({met:-1})\n        missing_exchanges.append(ex_rxn)\n    media_dicts[met_id] = biolog_base_dict.copy()\n    media_dicts[met_id] = {'EX_'+k:v for k,v in media_dicts[met_id].items()}\n    media_dicts[met_id]['EX_'+met_id] = 1000\nmodel.add_metabolites(missing_mets)\nmodel.add_reactions(missing_exchanges)\n\n# identify transporters for each biolog component in the universal model\n# and pick one that will enable transport in the gapfilling problem.\ntransporters_in_universal = [rxn for rxn in universal.reactions if len(rxn.compartments)>1]\nfor met in media_dicts.keys():\n    metabolite = model.metabolites.get_by_id(met)\n    base_met_id = met.split('_')[0]\n    rxns_with_metabolite = metabolite.reactions\n    transport = False\n    for rxn in rxns_with_metabolite:\n        metabolites = [met_in_rxn.id for met_in_rxn in rxn.metabolites]\n        if (base_met_id+'_e' in metabolites and base_met_id+'_c' in metabolites):\n            transport = True\n\n    pick_transporter = {}\n    if not transport:\n        print(\"missing transporter for \" + metabolite.name)\n        for rxn in transporters_in_universal:\n            metabolites = [met_in_rxn.id for met_in_rxn in rxn.metabolites]\n            if (base_met_id+'_e' in metabolites and base_met_id+'_c' in metabolites):\n                pick_transporter[met] = rxn.id\n\n# Add the transporters to the model\ntransporters_to_add = list(pick_transporter.values())\ntransporter_list = []\nfor rxn in transporters_to_add:\n    transporter_list.append(universal.reactions.get_by_id(rxn).copy())\nmodel.add_reactions(transporter_list)\n\n# remove the added transporters from the universal model\nuniversal.remove_reactions([universal.reactions.get_by_id(rxn) for rxn in transporters_to_add])\n\n# now perform gapfilling. This may take 20-30 seconds per cycle.\nfrom medusa.reconstruct.expand import iterative_gapfill_from_binary_phenotypes\n\n# select a subset of the biolog conditions to perform gapfilling with\nsources = list(media_dicts.keys())\nsub_dict = {sources[0]:media_dicts[sources[0]],\n           sources[1]:media_dicts[sources[1]],\n           sources[2]:media_dicts[sources[2]],\n           sources[3]:media_dicts[sources[3]],\n           sources[4]:media_dicts[sources[4]]}\n\nnum_cycles = 100\nlower_bound = 0.05\nflux_cutoff = 1E-10\nensemble = iterative_gapfill_from_binary_phenotypes(model,universal,sub_dict,num_cycles,\\\n                                     lower_bound=lower_bound,\\\n                                     inclusion_threshold=1E-10,\\\n                                     exchange_reactions=False,\\\n                                     demand_reactions=False,\\\n                                     exchange_prefix='EX')\n\nprint(len(ensemble.members))\n\n# TODO: with the ensemble in hand, generate a histogram of predicted\n# flux through biomass to display for the thumbnail.\n%matplotlib inline\nfrom medusa.flux_analysis import flux_balance\nimport matplotlib.pylab as plt\npredicted_growth = flux_balance.optimize_ensemble(ensemble, return_flux=['bio1'])\nx = predicted_growth['bio1']\nfig, ax = plt.subplots()\nplt.hist(x=x)\nax.set_xlabel('Biomass flux',size=16)\nax.set_ylabel('Density',size=16)\nplt.show()"
      ],
      "outputs": [],
      "execution_count": null
    },
    {
      "metadata": {},
      "cell_type": "markdown",
      "source": [
        "Here is an embedded section of RST text\n---------------------------------------\n\nWe'll use these later to break up the tutorial steps\n\n"
      ]
    }
  ],
  "nbformat": 4
}