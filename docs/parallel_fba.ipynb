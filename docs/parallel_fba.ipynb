{
 "cells": [
  {
   "cell_type": "markdown",
   "metadata": {},
   "source": [
    "### Parallelized simulations\n",
    "\n",
    "In `medusa`, ensemble Flux Balance Analysis (FBA) can be sped up thanks to the `multiprocessing` Python module. With this approach, each core (or processor) is assigned a subset of ensemble members for which to perform FBA, speeding up the computation in proportion to the number of additional processors allocated.\n",
    "\n",
    "Let's load a test model to demonstrate parallel ensemble FBA. This ensemble has 1000 members, so each FBA step will return fluxes for each reaction in one of the 1000 members."
   ]
  },
  {
   "cell_type": "code",
   "execution_count": 1,
   "metadata": {},
   "outputs": [],
   "source": [
    "from medusa.flux_analysis import flux_balance\n",
    "from medusa.test import create_test_ensemble\n",
    "ensemble = create_test_ensemble(\"Staphylococcus aureus\")"
   ]
  },
  {
   "cell_type": "markdown",
   "metadata": {},
   "source": [
    "Next, perform the actual simulations. To parallelize, just indicate the number of cores you'd like to use with the `num_processes` argument. `medusa` will _not_ automatically recognize that you have additional cores available. We'll use the time module to keep track of how long the simulation takes given the number of cores allocated."
   ]
  },
  {
   "cell_type": "code",
   "execution_count": 2,
   "metadata": {},
   "outputs": [
    {
     "name": "stdout",
     "output_type": "stream",
     "text": [
      "1 processors: 89.6445517539978s\n",
      "2 processors: 45.74347114562988s\n",
      "3 processors: 33.75276780128479s\n",
      "4 processors: 27.72901201248169s\n"
     ]
    }
   ],
   "source": [
    "import time\n",
    "\n",
    "runtimes = {}\n",
    "for num_processes in range(1,5):\n",
    "    t0 = time.time()\n",
    "    flux_balance.optimize_ensemble(ensemble, num_processes = num_processes)\n",
    "    t1 = time.time()\n",
    "    runtimes[num_processes] = t1-t0\n",
    "    print(str(num_processes) + ' processors: ' + str(t1-t0) + 's')"
   ]
  },
  {
   "cell_type": "code",
   "execution_count": 5,
   "metadata": {},
   "outputs": [
    {
     "data": {
      "image/png": "[encoded data removed]",
      "text/plain": [
       "<Figure size 432x288 with 1 Axes>"
      ]
     },
     "metadata": {
      "needs_background": "light"
     },
     "output_type": "display_data"
    }
   ],
   "source": [
    "import matplotlib.pylab as plt\n",
    "fig,ax = plt.subplots()\n",
    "plt.bar(runtimes.keys(), runtimes.values(), align = 'center', alpha = 0.6)\n",
    "plt.xlabel('Number of processors')\n",
    "plt.ylabel('Runtime (s)')\n",
    "ax.set_xlabel('Number of processors',size=16)\n",
    "ax.set_ylabel('Ensemble Flux Balance \\nAnalysis runtime (s)',size=16)\n",
    "ax.tick_params(axis='both', which='major', labelsize=12)\n",
    "ax.tick_params(axis='both', which='minor', labelsize=12)\n",
    "plt.savefig('parallel_fba.svg')"
   ]
  },
  {
   "cell_type": "markdown",
   "metadata": {},
   "source": [
    "As you can see from the printed output and the plots, a couple of additional cores really speeds things up. However, each core requires an additional copy of the ensemble for its independent simulations. This process (serialization and deserialization) leads to diminishing returns as the number of cores is increased. We are working on improving this, but for now, it is best to choose a modest number of cores (e.g. 2-4)."
   ]
  }
 ],
 "metadata": {
  "kernelspec": {
   "display_name": "medusa_devel",
   "language": "python",
   "name": "medusa_devel"
  },
  "language_info": {
   "codemirror_mode": {
    "name": "ipython",
    "version": 3
   },
   "file_extension": ".py",
   "mimetype": "text/x-python",
   "name": "python",
   "nbconvert_exporter": "python",
   "pygments_lexer": "ipython3",
   "version": "3.7.6"
  }
 },
 "nbformat": 4,
 "nbformat_minor": 4
}
