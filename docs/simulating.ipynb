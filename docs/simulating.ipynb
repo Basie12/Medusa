{
 "cells": [
  {
   "cell_type": "markdown",
   "metadata": {},
   "source": [
    "### Performing ensemble simulations\n",
    "\n",
    "With a functional `Ensemble` in hand, you're ready to perform simulations. In `medusa`, most simulations are performed by setting the model structure to represent an individual member, using cobrapy functions for the actual simulation, then repeating for all or many ensemble members.\n",
    "\n",
    "## Ensemble Flux Balance Analysis\n",
    "\n",
    "Flux balance analysis (FBA) is one of the most widely used techniques in systems biology. See [What is flux balance analysis?](https://www.ncbi.nlm.nih.gov/pmc/articles/PMC3108565/) for an introduction to FBA, and the [cobrapy documentation](https://cobrapy.readthedocs.io/en/latest/simulating.html) to see how FBA is performed with a single model.\n",
    "\n",
    "When using `medusa` for FBA, the environmental conditions and objective function should be specified in `ensemble.base_model`, just as if it were a normal cobrapy `Model`:"
   ]
  },
  {
   "cell_type": "code",
   "execution_count": 1,
   "metadata": {},
   "outputs": [],
   "source": [
    "import medusa\n",
    "from medusa.test import create_test_ensemble\n",
    "\n",
    "ensemble = create_test_ensemble(\"Staphylococcus aureus\")"
   ]
  },
  {
   "cell_type": "code",
   "execution_count": 2,
   "metadata": {},
   "outputs": [
    {
     "data": {
      "text/plain": [
       "1.0*bio1 - 1.0*bio1_reverse_b18f7"
      ]
     },
     "execution_count": 2,
     "metadata": {},
     "output_type": "execute_result"
    }
   ],
   "source": [
    "ensemble.base_model.objective.expression"
   ]
  },
  {
   "cell_type": "markdown",
   "metadata": {},
   "source": [
    "The current objective function is the biomass reaction (`bio1`)--to change this, just set the objective to another reaction. Let's change the objective to CO2 exchange, then change it back to biomass production:"
   ]
  },
  {
   "cell_type": "code",
   "execution_count": 3,
   "metadata": {},
   "outputs": [
    {
     "name": "stdout",
     "output_type": "stream",
     "text": [
      "1.0*EX_cpd00011_e - 1.0*EX_cpd00011_e_reverse_896eb\n",
      "1.0*bio1 - 1.0*bio1_reverse_b18f7\n"
     ]
    }
   ],
   "source": [
    "ensemble.base_model.objective = 'EX_cpd00011_e'\n",
    "print(ensemble.base_model.objective.expression)\n",
    "ensemble.base_model.objective = 'bio1'\n",
    "print(ensemble.base_model.objective.expression)"
   ]
  },
  {
   "cell_type": "markdown",
   "metadata": {},
   "source": [
    "Similarly, you can manipulate the environmental conditions as in cobrapy. The base model for this example ensemble is from ModelSEED, so exchange reactions are specified with the `'EX_'` prefix, followed by the metabolite id. Let's take a look at the exchange reactions that are currently open:"
   ]
  },
  {
   "cell_type": "code",
   "execution_count": 4,
   "metadata": {},
   "outputs": [
    {
     "data": {
      "text/plain": [
       "{'EX_cpd00001_e': 1000.0,\n",
       " 'EX_cpd00007_e': 1000.0,\n",
       " 'EX_cpd00009_e': 1000.0,\n",
       " 'EX_cpd00010_e': 1000.0,\n",
       " 'EX_cpd00011_e': 1000.0,\n",
       " 'EX_cpd00012_e': 1000.0,\n",
       " 'EX_cpd00013_e': 1000,\n",
       " 'EX_cpd00023_e': 1000.0,\n",
       " 'EX_cpd00024_e': 1000.0,\n",
       " 'EX_cpd00027_e': 1000.0,\n",
       " 'EX_cpd00028_e': 1000.0,\n",
       " 'EX_cpd00029_e': 1000,\n",
       " 'EX_cpd00030_e': 1000.0,\n",
       " 'EX_cpd00033_e': 1000.0,\n",
       " 'EX_cpd00034_e': 1000.0,\n",
       " 'EX_cpd00035_e': 1000.0,\n",
       " 'EX_cpd00039_e': 1000.0,\n",
       " 'EX_cpd00041_e': 1000.0,\n",
       " 'EX_cpd00047_e': 1000.0,\n",
       " 'EX_cpd00048_e': 1000.0,\n",
       " 'EX_cpd00051_e': 1000.0,\n",
       " 'EX_cpd00053_e': 1000.0,\n",
       " 'EX_cpd00054_e': 1000.0,\n",
       " 'EX_cpd00058_e': 1000.0,\n",
       " 'EX_cpd00060_e': 1000.0,\n",
       " 'EX_cpd00063_e': 1000.0,\n",
       " 'EX_cpd00064_e': 1000.0,\n",
       " 'EX_cpd00066_e': 1000.0,\n",
       " 'EX_cpd00067_e': 1000.0,\n",
       " 'EX_cpd00069_e': 1000.0,\n",
       " 'EX_cpd00072_e': 1000,\n",
       " 'EX_cpd00073_e': 1000.0,\n",
       " 'EX_cpd00075_e': 1000.0,\n",
       " 'EX_cpd00076_e': 1000.0,\n",
       " 'EX_cpd00079_e': 1000,\n",
       " 'EX_cpd00080_e': 1000.0,\n",
       " 'EX_cpd00082_e': 1000.0,\n",
       " 'EX_cpd00092_e': 1000.0,\n",
       " 'EX_cpd00094_e': 1000,\n",
       " 'EX_cpd00098_e': 1000.0,\n",
       " 'EX_cpd00099_e': 1000.0,\n",
       " 'EX_cpd00100_e': 1000.0,\n",
       " 'EX_cpd00104_e': 1000.0,\n",
       " 'EX_cpd00105_e': 1000.0,\n",
       " 'EX_cpd00117_e': 1000.0,\n",
       " 'EX_cpd00119_e': 1000.0,\n",
       " 'EX_cpd00122_e': 1000.0,\n",
       " 'EX_cpd00129_e': 1000.0,\n",
       " 'EX_cpd00130_e': 1000.0,\n",
       " 'EX_cpd00137_e': 1000.0,\n",
       " 'EX_cpd00138_e': 1000.0,\n",
       " 'EX_cpd00141_e': 1000,\n",
       " 'EX_cpd00142_e': 1000,\n",
       " 'EX_cpd00149_e': 1000.0,\n",
       " 'EX_cpd00159_e': 1000.0,\n",
       " 'EX_cpd00179_e': 1000.0,\n",
       " 'EX_cpd00182_e': 1000.0,\n",
       " 'EX_cpd00184_e': 1000.0,\n",
       " 'EX_cpd00205_e': 1000.0,\n",
       " 'EX_cpd00208_e': 1000.0,\n",
       " 'EX_cpd00220_e': 1000.0,\n",
       " 'EX_cpd00222_e': 1000.0,\n",
       " 'EX_cpd00232_e': 1000,\n",
       " 'EX_cpd00244_e': 1000.0,\n",
       " 'EX_cpd00246_e': 1000.0,\n",
       " 'EX_cpd00249_e': 1000.0,\n",
       " 'EX_cpd00254_e': 1000.0,\n",
       " 'EX_cpd00264_e': 1000.0,\n",
       " 'EX_cpd00268_e': 1000.0,\n",
       " 'EX_cpd00276_e': 1000.0,\n",
       " 'EX_cpd00277_e': 1000.0,\n",
       " 'EX_cpd00305_e': 1000.0,\n",
       " 'EX_cpd00309_e': 1000.0,\n",
       " 'EX_cpd00314_e': 1000.0,\n",
       " 'EX_cpd00320_e': 1000,\n",
       " 'EX_cpd00322_e': 1000.0,\n",
       " 'EX_cpd00355_e': 1000.0,\n",
       " 'EX_cpd00367_e': 1000.0,\n",
       " 'EX_cpd00393_e': 1000.0,\n",
       " 'EX_cpd00396_e': 1000,\n",
       " 'EX_cpd00412_e': 1000.0,\n",
       " 'EX_cpd00438_e': 1000.0,\n",
       " 'EX_cpd00492_e': 1000,\n",
       " 'EX_cpd00531_e': 1000.0,\n",
       " 'EX_cpd00540_e': 1000.0,\n",
       " 'EX_cpd00550_e': 1000.0,\n",
       " 'EX_cpd00588_e': 1000.0,\n",
       " 'EX_cpd00637_e': 1000.0,\n",
       " 'EX_cpd00654_e': 1000.0,\n",
       " 'EX_cpd00681_e': 1000.0,\n",
       " 'EX_cpd00709_e': 1000,\n",
       " 'EX_cpd00794_e': 1000.0,\n",
       " 'EX_cpd00971_e': 1000.0,\n",
       " 'EX_cpd01012_e': 1000.0,\n",
       " 'EX_cpd01030_e': 1000.0,\n",
       " 'EX_cpd01080_e': 1000.0,\n",
       " 'EX_cpd01171_e': 1000.0,\n",
       " 'EX_cpd01262_e': 1000.0,\n",
       " 'EX_cpd01293_e': 1000,\n",
       " 'EX_cpd01307_e': 1000,\n",
       " 'EX_cpd01329_e': 1000.0,\n",
       " 'EX_cpd01914_e': 1000.0,\n",
       " 'EX_cpd03279_e': 1000.0,\n",
       " 'EX_cpd03561_e': 1000,\n",
       " 'EX_cpd03696_e': 1000.0,\n",
       " 'EX_cpd03724_e': 1000.0,\n",
       " 'EX_cpd03725_e': 1000.0,\n",
       " 'EX_cpd04097_e': 1000.0,\n",
       " 'EX_cpd05158_e': 1000,\n",
       " 'EX_cpd05264_e': 1000,\n",
       " 'EX_cpd08305_e': 1000.0,\n",
       " 'EX_cpd08306_e': 1000.0,\n",
       " 'EX_cpd10515_e': 1000.0,\n",
       " 'EX_cpd10516_e': 1000.0,\n",
       " 'EX_cpd11576_e': 1000.0,\n",
       " 'EX_cpd11594_e': 1000,\n",
       " 'EX_cpd11597_e': 1000.0,\n",
       " 'EX_cpd15584_e': 1000,\n",
       " 'EX_cpd19001_e': 1000}"
      ]
     },
     "execution_count": 4,
     "metadata": {},
     "output_type": "execute_result"
    }
   ],
   "source": [
    "medium = ensemble.base_model.medium\n",
    "medium"
   ]
  },
  {
   "cell_type": "markdown",
   "metadata": {},
   "source": [
    "That's a lot of open exchange reactions! Let's make them a bit more realistic for an *in vitro* situation. We'll load a file specifying the base composition of the media in biolog single C/N growth conditions, and set the media conditions to reflect that. The base composition is missing a carbon source, so we'll enable uptake of glucose. In the medium dictionary, the numbers for each exchange reaction are uptake rates. If you inspect the actual exchange reactions, you will find that the equivalent to an uptake rate of 1000 units is a lower bound of -1000, because our exchange reactions are defined with the boundary metabolite as the reactant, e.g. `cpd00182_e --> `."
   ]
  },
  {
   "cell_type": "code",
   "execution_count": 5,
   "metadata": {},
   "outputs": [
    {
     "data": {
      "text/html": [
       "<div>\n",
       "<style scoped>\n",
       "    .dataframe tbody tr th:only-of-type {\n",
       "        vertical-align: middle;\n",
       "    }\n",
       "\n",
       "    .dataframe tbody tr th {\n",
       "        vertical-align: top;\n",
       "    }\n",
       "\n",
       "    .dataframe thead th {\n",
       "        text-align: right;\n",
       "    }\n",
       "</style>\n",
       "<table border=\"1\" class=\"dataframe\">\n",
       "  <thead>\n",
       "    <tr style=\"text-align: right;\">\n",
       "      <th></th>\n",
       "      <th>Name</th>\n",
       "      <th>ID</th>\n",
       "    </tr>\n",
       "  </thead>\n",
       "  <tbody>\n",
       "    <tr>\n",
       "      <th>0</th>\n",
       "      <td>H2O</td>\n",
       "      <td>cpd00001_e</td>\n",
       "    </tr>\n",
       "    <tr>\n",
       "      <th>1</th>\n",
       "      <td>O2</td>\n",
       "      <td>cpd00007_e</td>\n",
       "    </tr>\n",
       "    <tr>\n",
       "      <th>2</th>\n",
       "      <td>Phosphate</td>\n",
       "      <td>cpd00009_e</td>\n",
       "    </tr>\n",
       "    <tr>\n",
       "      <th>3</th>\n",
       "      <td>CO2</td>\n",
       "      <td>cpd00011_e</td>\n",
       "    </tr>\n",
       "    <tr>\n",
       "      <th>4</th>\n",
       "      <td>NH3</td>\n",
       "      <td>cpd00013_e</td>\n",
       "    </tr>\n",
       "    <tr>\n",
       "      <th>5</th>\n",
       "      <td>Mn2+</td>\n",
       "      <td>cpd00030_e</td>\n",
       "    </tr>\n",
       "    <tr>\n",
       "      <th>6</th>\n",
       "      <td>Zn2+</td>\n",
       "      <td>cpd00034_e</td>\n",
       "    </tr>\n",
       "    <tr>\n",
       "      <th>7</th>\n",
       "      <td>Sulfate</td>\n",
       "      <td>cpd00048_e</td>\n",
       "    </tr>\n",
       "    <tr>\n",
       "      <th>8</th>\n",
       "      <td>Cu2+</td>\n",
       "      <td>cpd00058_e</td>\n",
       "    </tr>\n",
       "    <tr>\n",
       "      <th>9</th>\n",
       "      <td>Ca2+</td>\n",
       "      <td>cpd00063_e</td>\n",
       "    </tr>\n",
       "    <tr>\n",
       "      <th>10</th>\n",
       "      <td>H+</td>\n",
       "      <td>cpd00067_e</td>\n",
       "    </tr>\n",
       "    <tr>\n",
       "      <th>11</th>\n",
       "      <td>Cl-</td>\n",
       "      <td>cpd00099_e</td>\n",
       "    </tr>\n",
       "    <tr>\n",
       "      <th>12</th>\n",
       "      <td>Co2+</td>\n",
       "      <td>cpd00149_e</td>\n",
       "    </tr>\n",
       "    <tr>\n",
       "      <th>13</th>\n",
       "      <td>K+</td>\n",
       "      <td>cpd00205_e</td>\n",
       "    </tr>\n",
       "    <tr>\n",
       "      <th>14</th>\n",
       "      <td>Mg</td>\n",
       "      <td>cpd00254_e</td>\n",
       "    </tr>\n",
       "    <tr>\n",
       "      <th>15</th>\n",
       "      <td>Na+</td>\n",
       "      <td>cpd00971_e</td>\n",
       "    </tr>\n",
       "    <tr>\n",
       "      <th>16</th>\n",
       "      <td>Fe2+</td>\n",
       "      <td>cpd10515_e</td>\n",
       "    </tr>\n",
       "    <tr>\n",
       "      <th>17</th>\n",
       "      <td>fe3</td>\n",
       "      <td>cpd10516_e</td>\n",
       "    </tr>\n",
       "    <tr>\n",
       "      <th>18</th>\n",
       "      <td>Heme</td>\n",
       "      <td>cpd00028_e</td>\n",
       "    </tr>\n",
       "    <tr>\n",
       "      <th>19</th>\n",
       "      <td>H2S2O3</td>\n",
       "      <td>cpd00268_e</td>\n",
       "    </tr>\n",
       "  </tbody>\n",
       "</table>\n",
       "</div>"
      ],
      "text/plain": [
       "         Name          ID\n",
       "0         H2O  cpd00001_e\n",
       "1          O2  cpd00007_e\n",
       "2   Phosphate  cpd00009_e\n",
       "3         CO2  cpd00011_e\n",
       "4         NH3  cpd00013_e\n",
       "5        Mn2+  cpd00030_e\n",
       "6        Zn2+  cpd00034_e\n",
       "7     Sulfate  cpd00048_e\n",
       "8        Cu2+  cpd00058_e\n",
       "9        Ca2+  cpd00063_e\n",
       "10         H+  cpd00067_e\n",
       "11        Cl-  cpd00099_e\n",
       "12       Co2+  cpd00149_e\n",
       "13         K+  cpd00205_e\n",
       "14         Mg  cpd00254_e\n",
       "15        Na+  cpd00971_e\n",
       "16       Fe2+  cpd10515_e\n",
       "17        fe3  cpd10516_e\n",
       "18       Heme  cpd00028_e\n",
       "19     H2S2O3  cpd00268_e"
      ]
     },
     "execution_count": 5,
     "metadata": {},
     "output_type": "execute_result"
    }
   ],
   "source": [
    "import pandas as pd\n",
    "biolog_base = pd.read_csv(\"../medusa/test/data/biolog_base_composition.csv\", sep=\",\")\n",
    "biolog_base"
   ]
  },
  {
   "cell_type": "code",
   "execution_count": 6,
   "metadata": {},
   "outputs": [
    {
     "data": {
      "text/plain": [
       "{'EX_cpd00001_e': 1000,\n",
       " 'EX_cpd00007_e': 1000,\n",
       " 'EX_cpd00009_e': 1000,\n",
       " 'EX_cpd00011_e': 1000,\n",
       " 'EX_cpd00013_e': 1000,\n",
       " 'EX_cpd00028_e': 1000,\n",
       " 'EX_cpd00030_e': 1000,\n",
       " 'EX_cpd00034_e': 1000,\n",
       " 'EX_cpd00048_e': 1000,\n",
       " 'EX_cpd00058_e': 1000,\n",
       " 'EX_cpd00063_e': 1000,\n",
       " 'EX_cpd00067_e': 1000,\n",
       " 'EX_cpd00099_e': 1000,\n",
       " 'EX_cpd00149_e': 1000,\n",
       " 'EX_cpd00182_e': 10,\n",
       " 'EX_cpd00205_e': 1000,\n",
       " 'EX_cpd00254_e': 1000,\n",
       " 'EX_cpd00268_e': 1000,\n",
       " 'EX_cpd00971_e': 1000,\n",
       " 'EX_cpd10515_e': 1000,\n",
       " 'EX_cpd10516_e': 1000}"
      ]
     },
     "execution_count": 6,
     "metadata": {},
     "output_type": "execute_result"
    }
   ],
   "source": [
    "# convert the biolog base to a dictionary, which we can use to set ensemble.base_model.medium directly.\n",
    "biolog_base = {'EX_'+component:1000 for component in biolog_base['ID']}\n",
    "\n",
    "# add glucose uptake to the new medium dictionary\n",
    "biolog_base['EX_cpd00182_e'] = 10\n",
    "\n",
    "# Set the medium on the base model\n",
    "ensemble.base_model.medium = biolog_base\n",
    "ensemble.base_model.medium"
   ]
  },
  {
   "cell_type": "markdown",
   "metadata": {},
   "source": [
    "With the medium set, we can now simulate growth in these conditions:"
   ]
  },
  {
   "cell_type": "code",
   "execution_count": 7,
   "metadata": {},
   "outputs": [],
   "source": [
    "from medusa.flux_analysis import flux_balance\n",
    "fluxes = flux_balance.optimize_ensemble(ensemble,return_flux='bio1')"
   ]
  },
  {
   "cell_type": "code",
   "execution_count": 16,
   "metadata": {},
   "outputs": [
    {
     "data": {
      "text/html": [
       "<div>\n",
       "<style scoped>\n",
       "    .dataframe tbody tr th:only-of-type {\n",
       "        vertical-align: middle;\n",
       "    }\n",
       "\n",
       "    .dataframe tbody tr th {\n",
       "        vertical-align: top;\n",
       "    }\n",
       "\n",
       "    .dataframe thead th {\n",
       "        text-align: right;\n",
       "    }\n",
       "</style>\n",
       "<table border=\"1\" class=\"dataframe\">\n",
       "  <thead>\n",
       "    <tr style=\"text-align: right;\">\n",
       "      <th></th>\n",
       "      <th>bio1</th>\n",
       "    </tr>\n",
       "  </thead>\n",
       "  <tbody>\n",
       "    <tr>\n",
       "      <th>Staphylococcus aureus_gapfilled_18</th>\n",
       "      <td>14.890551</td>\n",
       "    </tr>\n",
       "    <tr>\n",
       "      <th>Staphylococcus aureus_gapfilled_477</th>\n",
       "      <td>12.218825</td>\n",
       "    </tr>\n",
       "    <tr>\n",
       "      <th>Staphylococcus aureus_gapfilled_430</th>\n",
       "      <td>19.198765</td>\n",
       "    </tr>\n",
       "    <tr>\n",
       "      <th>Staphylococcus aureus_gapfilled_735</th>\n",
       "      <td>14.875922</td>\n",
       "    </tr>\n",
       "    <tr>\n",
       "      <th>Staphylococcus aureus_gapfilled_916</th>\n",
       "      <td>12.223456</td>\n",
       "    </tr>\n",
       "    <tr>\n",
       "      <th>Staphylococcus aureus_gapfilled_983</th>\n",
       "      <td>19.375070</td>\n",
       "    </tr>\n",
       "    <tr>\n",
       "      <th>Staphylococcus aureus_gapfilled_371</th>\n",
       "      <td>13.113148</td>\n",
       "    </tr>\n",
       "    <tr>\n",
       "      <th>Staphylococcus aureus_gapfilled_255</th>\n",
       "      <td>12.223456</td>\n",
       "    </tr>\n",
       "    <tr>\n",
       "      <th>Staphylococcus aureus_gapfilled_729</th>\n",
       "      <td>14.891239</td>\n",
       "    </tr>\n",
       "    <tr>\n",
       "      <th>Staphylococcus aureus_gapfilled_925</th>\n",
       "      <td>19.198765</td>\n",
       "    </tr>\n",
       "  </tbody>\n",
       "</table>\n",
       "</div>"
      ],
      "text/plain": [
       "                                          bio1\n",
       "Staphylococcus aureus_gapfilled_18   14.890551\n",
       "Staphylococcus aureus_gapfilled_477  12.218825\n",
       "Staphylococcus aureus_gapfilled_430  19.198765\n",
       "Staphylococcus aureus_gapfilled_735  14.875922\n",
       "Staphylococcus aureus_gapfilled_916  12.223456\n",
       "Staphylococcus aureus_gapfilled_983  19.375070\n",
       "Staphylococcus aureus_gapfilled_371  13.113148\n",
       "Staphylococcus aureus_gapfilled_255  12.223456\n",
       "Staphylococcus aureus_gapfilled_729  14.891239\n",
       "Staphylococcus aureus_gapfilled_925  19.198765"
      ]
     },
     "execution_count": 16,
     "metadata": {},
     "output_type": "execute_result"
    }
   ],
   "source": [
    "# get fluxes for the first 10 members\n",
    "fluxes.head(10)"
   ]
  },
  {
   "cell_type": "code",
   "execution_count": 10,
   "metadata": {},
   "outputs": [
    {
     "data": {
      "image/png": "[encoded data removed]",
      "text/plain": [
       "<Figure size 432x288 with 1 Axes>"
      ]
     },
     "metadata": {
      "needs_background": "light"
     },
     "output_type": "display_data"
    }
   ],
   "source": [
    "import matplotlib.pylab as plt\n",
    "fig, ax = plt.subplots()\n",
    "plt.hist(fluxes['bio1'])\n",
    "ax.set_ylabel('# ensemble members')\n",
    "ax.set_xlabel('Flux through biomass reaction')\n",
    "plt.show()"
   ]
  },
  {
   "cell_type": "markdown",
   "metadata": {},
   "source": [
    "You may want to perform simulations with only a subset of ensemble members. There are two options for this; either identifying the desired members for simulation with the `specific_models` parameter, or passing a number of random members to perform simulations with the `num_models` parameter."
   ]
  },
  {
   "cell_type": "code",
   "execution_count": 14,
   "metadata": {},
   "outputs": [
    {
     "data": {
      "text/html": [
       "<div>\n",
       "<style scoped>\n",
       "    .dataframe tbody tr th:only-of-type {\n",
       "        vertical-align: middle;\n",
       "    }\n",
       "\n",
       "    .dataframe tbody tr th {\n",
       "        vertical-align: top;\n",
       "    }\n",
       "\n",
       "    .dataframe thead th {\n",
       "        text-align: right;\n",
       "    }\n",
       "</style>\n",
       "<table border=\"1\" class=\"dataframe\">\n",
       "  <thead>\n",
       "    <tr style=\"text-align: right;\">\n",
       "      <th></th>\n",
       "      <th>bio1</th>\n",
       "    </tr>\n",
       "  </thead>\n",
       "  <tbody>\n",
       "    <tr>\n",
       "      <th>Staphylococcus aureus_gapfilled_300</th>\n",
       "      <td>18.441010</td>\n",
       "    </tr>\n",
       "    <tr>\n",
       "      <th>Staphylococcus aureus_gapfilled_181</th>\n",
       "      <td>14.875922</td>\n",
       "    </tr>\n",
       "    <tr>\n",
       "      <th>Staphylococcus aureus_gapfilled_667</th>\n",
       "      <td>17.618230</td>\n",
       "    </tr>\n",
       "    <tr>\n",
       "      <th>Staphylococcus aureus_gapfilled_668</th>\n",
       "      <td>14.875922</td>\n",
       "    </tr>\n",
       "    <tr>\n",
       "      <th>Staphylococcus aureus_gapfilled_639</th>\n",
       "      <td>14.186860</td>\n",
       "    </tr>\n",
       "    <tr>\n",
       "      <th>Staphylococcus aureus_gapfilled_636</th>\n",
       "      <td>14.186860</td>\n",
       "    </tr>\n",
       "    <tr>\n",
       "      <th>Staphylococcus aureus_gapfilled_738</th>\n",
       "      <td>14.643953</td>\n",
       "    </tr>\n",
       "    <tr>\n",
       "      <th>Staphylococcus aureus_gapfilled_68</th>\n",
       "      <td>12.223456</td>\n",
       "    </tr>\n",
       "    <tr>\n",
       "      <th>Staphylococcus aureus_gapfilled_87</th>\n",
       "      <td>14.875922</td>\n",
       "    </tr>\n",
       "    <tr>\n",
       "      <th>Staphylococcus aureus_gapfilled_580</th>\n",
       "      <td>12.223456</td>\n",
       "    </tr>\n",
       "  </tbody>\n",
       "</table>\n",
       "</div>"
      ],
      "text/plain": [
       "                                          bio1\n",
       "Staphylococcus aureus_gapfilled_300  18.441010\n",
       "Staphylococcus aureus_gapfilled_181  14.875922\n",
       "Staphylococcus aureus_gapfilled_667  17.618230\n",
       "Staphylococcus aureus_gapfilled_668  14.875922\n",
       "Staphylococcus aureus_gapfilled_639  14.186860\n",
       "Staphylococcus aureus_gapfilled_636  14.186860\n",
       "Staphylococcus aureus_gapfilled_738  14.643953\n",
       "Staphylococcus aureus_gapfilled_68   12.223456\n",
       "Staphylococcus aureus_gapfilled_87   14.875922\n",
       "Staphylococcus aureus_gapfilled_580  12.223456"
      ]
     },
     "execution_count": 14,
     "metadata": {},
     "output_type": "execute_result"
    }
   ],
   "source": [
    "# perform FBA with a random set of 10 members:\n",
    "subflux = flux_balance.optimize_ensemble(ensemble, num_models = 10, return_flux = \"bio1\")\n",
    "subflux"
   ]
  },
  {
   "cell_type": "code",
   "execution_count": 15,
   "metadata": {},
   "outputs": [
    {
     "name": "stdout",
     "output_type": "stream",
     "text": [
      "['Staphylococcus aureus_gapfilled_892', 'Staphylococcus aureus_gapfilled_851', 'Staphylococcus aureus_gapfilled_501', 'Staphylococcus aureus_gapfilled_927', 'Staphylococcus aureus_gapfilled_875', 'Staphylococcus aureus_gapfilled_500', 'Staphylococcus aureus_gapfilled_751', 'Staphylococcus aureus_gapfilled_849', 'Staphylococcus aureus_gapfilled_372', 'Staphylococcus aureus_gapfilled_421']\n"
     ]
    },
    {
     "data": {
      "text/html": [
       "<div>\n",
       "<style scoped>\n",
       "    .dataframe tbody tr th:only-of-type {\n",
       "        vertical-align: middle;\n",
       "    }\n",
       "\n",
       "    .dataframe tbody tr th {\n",
       "        vertical-align: top;\n",
       "    }\n",
       "\n",
       "    .dataframe thead th {\n",
       "        text-align: right;\n",
       "    }\n",
       "</style>\n",
       "<table border=\"1\" class=\"dataframe\">\n",
       "  <thead>\n",
       "    <tr style=\"text-align: right;\">\n",
       "      <th></th>\n",
       "      <th>bio1</th>\n",
       "    </tr>\n",
       "  </thead>\n",
       "  <tbody>\n",
       "    <tr>\n",
       "      <th>Staphylococcus aureus_gapfilled_372</th>\n",
       "      <td>12.223456</td>\n",
       "    </tr>\n",
       "    <tr>\n",
       "      <th>Staphylococcus aureus_gapfilled_421</th>\n",
       "      <td>13.113148</td>\n",
       "    </tr>\n",
       "    <tr>\n",
       "      <th>Staphylococcus aureus_gapfilled_500</th>\n",
       "      <td>19.198765</td>\n",
       "    </tr>\n",
       "    <tr>\n",
       "      <th>Staphylococcus aureus_gapfilled_501</th>\n",
       "      <td>12.223456</td>\n",
       "    </tr>\n",
       "    <tr>\n",
       "      <th>Staphylococcus aureus_gapfilled_751</th>\n",
       "      <td>14.209162</td>\n",
       "    </tr>\n",
       "    <tr>\n",
       "      <th>Staphylococcus aureus_gapfilled_849</th>\n",
       "      <td>12.224814</td>\n",
       "    </tr>\n",
       "    <tr>\n",
       "      <th>Staphylococcus aureus_gapfilled_851</th>\n",
       "      <td>19.375070</td>\n",
       "    </tr>\n",
       "    <tr>\n",
       "      <th>Staphylococcus aureus_gapfilled_875</th>\n",
       "      <td>17.872504</td>\n",
       "    </tr>\n",
       "    <tr>\n",
       "      <th>Staphylococcus aureus_gapfilled_892</th>\n",
       "      <td>19.375070</td>\n",
       "    </tr>\n",
       "    <tr>\n",
       "      <th>Staphylococcus aureus_gapfilled_927</th>\n",
       "      <td>19.198765</td>\n",
       "    </tr>\n",
       "  </tbody>\n",
       "</table>\n",
       "</div>"
      ],
      "text/plain": [
       "                                          bio1\n",
       "Staphylococcus aureus_gapfilled_372  12.223456\n",
       "Staphylococcus aureus_gapfilled_421  13.113148\n",
       "Staphylococcus aureus_gapfilled_500  19.198765\n",
       "Staphylococcus aureus_gapfilled_501  12.223456\n",
       "Staphylococcus aureus_gapfilled_751  14.209162\n",
       "Staphylococcus aureus_gapfilled_849  12.224814\n",
       "Staphylococcus aureus_gapfilled_851  19.375070\n",
       "Staphylococcus aureus_gapfilled_875  17.872504\n",
       "Staphylococcus aureus_gapfilled_892  19.375070\n",
       "Staphylococcus aureus_gapfilled_927  19.198765"
      ]
     },
     "execution_count": 15,
     "metadata": {},
     "output_type": "execute_result"
    }
   ],
   "source": [
    "submembers = [member.id for member in ensemble.members[0:10]]\n",
    "print(submembers)\n",
    "subflux = flux_balance.optimize_ensemble(ensemble, specific_models = submembers, return_flux = \"bio1\")\n",
    "subflux"
   ]
  },
  {
   "cell_type": "markdown",
   "metadata": {},
   "source": [
    "## Flux Variability Analysis"
   ]
  },
  {
   "cell_type": "code",
   "execution_count": null,
   "metadata": {},
   "outputs": [],
   "source": []
  },
  {
   "cell_type": "markdown",
   "metadata": {},
   "source": [
    "## Gene and Reaction Deletions"
   ]
  },
  {
   "cell_type": "code",
   "execution_count": null,
   "metadata": {},
   "outputs": [],
   "source": []
  }
 ],
 "metadata": {
  "kernelspec": {
   "display_name": "medusa_dev_1",
   "language": "python",
   "name": "medusa_dev_1"
  },
  "language_info": {
   "codemirror_mode": {
    "name": "ipython",
    "version": 3
   },
   "file_extension": ".py",
   "mimetype": "text/x-python",
   "name": "python",
   "nbconvert_exporter": "python",
   "pygments_lexer": "ipython3",
   "version": "3.5.2"
  }
 },
 "nbformat": 4,
 "nbformat_minor": 2
}
