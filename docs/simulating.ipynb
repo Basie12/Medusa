{
 "cells": [
  {
   "cell_type": "markdown",
   "metadata": {},
   "source": [
    "### Performing ensemble simulations\n",
    "\n",
    "With a functional `Ensemble` in hand, you're ready to perform simulations.\n",
    "\n",
    "## Ensemble Flux Balance Analysis\n",
    "\n",
    "Flux balance analysis (FBA) is one of the most widely used techniques in systems biology. See [What is flux balance analysis?](https://www.ncbi.nlm.nih.gov/pmc/articles/PMC3108565/) for an introduction to FBA.\n",
    "\n",
    "In Medusa"
   ]
  }
 ],
 "metadata": {
  "kernelspec": {
   "display_name": "ssl_ensembles",
   "language": "python",
   "name": "ssl_ensembles"
  },
  "language_info": {
   "codemirror_mode": {
    "name": "ipython",
    "version": 3
   },
   "file_extension": ".py",
   "mimetype": "text/x-python",
   "name": "python",
   "nbconvert_exporter": "python",
   "pygments_lexer": "ipython3",
   "version": "3.5.2"
  }
 },
 "nbformat": 4,
 "nbformat_minor": 2
}
