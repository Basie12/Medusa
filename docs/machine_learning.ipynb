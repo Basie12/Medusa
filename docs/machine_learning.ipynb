{
 "cells": [
  {
   "cell_type": "markdown",
   "metadata": {},
   "source": [
    "### Applying machine learning to guide ensemble curation\n",
    "\n",
    "An ensemble of models can be though of as a set of feasible hypotheses about how a system behaves. From a machine learning perspective, these hypotheses can alternatively be viewed as samples (or observations), each of which has a distinct set of features (i.e. the model components that vary across an ensemble) and can further generate new features by performing simulations. An example of the analyses enabled by this view of ensembles can be found in [Medlock & Papin](https://doi.org/10.1101/460071), where ensemble structure and ensemble simulations are used to identify reactions that are high-priority targets for curation."
   ]
  },
  {
   "cell_type": "markdown",
   "metadata": {},
   "source": [
    "In this example, we demonstrate how ensembles of genome-scale metabolic models and machine learning can be combined to identify reactions that might strongly influence a single prediction (flux through biomass). We will use an ensemble for *Staphylococcus aureus* that contains 1000 members. The ensemble was generated through iterative gapfilling to enable growth on single C/N media conditions using a draft reconstruction from ModelSEED."
   ]
  },
  {
   "cell_type": "code",
   "execution_count": 1,
   "metadata": {},
   "outputs": [],
   "source": [
    "import medusa\n",
    "from medusa.test import create_test_ensemble\n",
    "\n",
    "ensemble = create_test_ensemble(\"Staphylococcus aureus\")"
   ]
  },
  {
   "cell_type": "markdown",
   "metadata": {},
   "source": [
    "Using the ensemble, we'll perform flux balance analysis and return flux through the biomass reaction (which has an ID of `\"bio1\"`). The ensemble already has the media conditions set as \"complete\", meaning the boundary reactions for all transportable metabolites are open (e.g. the lower bound of all exchange reactions is -1000)."
   ]
  },
  {
   "cell_type": "code",
   "execution_count": 2,
   "metadata": {},
   "outputs": [],
   "source": [
    "from medusa.flux_analysis import flux_balance\n",
    "biomass_fluxes = flux_balance.optimize_ensemble(ensemble, return_flux=\"bio1\", num_processes = 4)"
   ]
  },
  {
   "cell_type": "markdown",
   "metadata": {},
   "source": [
    "The `optimize_ensemble` function returns a pandas DataFrame, where each column is a reaction and each row is an ensemble member. For illustration, here are the values for the first 10 members of the ensemble:"
   ]
  },
  {
   "cell_type": "code",
   "execution_count": 3,
   "metadata": {},
   "outputs": [
    {
     "data": {
      "text/html": [
       "<div>\n",
       "<style scoped>\n",
       "    .dataframe tbody tr th:only-of-type {\n",
       "        vertical-align: middle;\n",
       "    }\n",
       "\n",
       "    .dataframe tbody tr th {\n",
       "        vertical-align: top;\n",
       "    }\n",
       "\n",
       "    .dataframe thead th {\n",
       "        text-align: right;\n",
       "    }\n",
       "</style>\n",
       "<table border=\"1\" class=\"dataframe\">\n",
       "  <thead>\n",
       "    <tr style=\"text-align: right;\">\n",
       "      <th></th>\n",
       "      <th>bio1</th>\n",
       "    </tr>\n",
       "  </thead>\n",
       "  <tbody>\n",
       "    <tr>\n",
       "      <th>Staphylococcus aureus_gapfilled_0</th>\n",
       "      <td>118.953596</td>\n",
       "    </tr>\n",
       "    <tr>\n",
       "      <th>Staphylococcus aureus_gapfilled_1</th>\n",
       "      <td>106.883727</td>\n",
       "    </tr>\n",
       "    <tr>\n",
       "      <th>Staphylococcus aureus_gapfilled_10</th>\n",
       "      <td>117.959585</td>\n",
       "    </tr>\n",
       "    <tr>\n",
       "      <th>Staphylococcus aureus_gapfilled_100</th>\n",
       "      <td>145.714527</td>\n",
       "    </tr>\n",
       "    <tr>\n",
       "      <th>Staphylococcus aureus_gapfilled_101</th>\n",
       "      <td>117.819590</td>\n",
       "    </tr>\n",
       "    <tr>\n",
       "      <th>Staphylococcus aureus_gapfilled_102</th>\n",
       "      <td>128.540874</td>\n",
       "    </tr>\n",
       "    <tr>\n",
       "      <th>Staphylococcus aureus_gapfilled_103</th>\n",
       "      <td>126.180449</td>\n",
       "    </tr>\n",
       "    <tr>\n",
       "      <th>Staphylococcus aureus_gapfilled_104</th>\n",
       "      <td>137.812775</td>\n",
       "    </tr>\n",
       "    <tr>\n",
       "      <th>Staphylococcus aureus_gapfilled_105</th>\n",
       "      <td>124.171897</td>\n",
       "    </tr>\n",
       "    <tr>\n",
       "      <th>Staphylococcus aureus_gapfilled_106</th>\n",
       "      <td>114.238947</td>\n",
       "    </tr>\n",
       "  </tbody>\n",
       "</table>\n",
       "</div>"
      ],
      "text/plain": [
       "                                           bio1\n",
       "Staphylococcus aureus_gapfilled_0    118.953596\n",
       "Staphylococcus aureus_gapfilled_1    106.883727\n",
       "Staphylococcus aureus_gapfilled_10   117.959585\n",
       "Staphylococcus aureus_gapfilled_100  145.714527\n",
       "Staphylococcus aureus_gapfilled_101  117.819590\n",
       "Staphylococcus aureus_gapfilled_102  128.540874\n",
       "Staphylococcus aureus_gapfilled_103  126.180449\n",
       "Staphylococcus aureus_gapfilled_104  137.812775\n",
       "Staphylococcus aureus_gapfilled_105  124.171897\n",
       "Staphylococcus aureus_gapfilled_106  114.238947"
      ]
     },
     "execution_count": 3,
     "metadata": {},
     "output_type": "execute_result"
    }
   ],
   "source": [
    "biomass_fluxes.head(10)"
   ]
  },
  {
   "cell_type": "markdown",
   "metadata": {},
   "source": [
    "To get a sense for the distribution of biomass flux predictions, we can visualize them with matplotlib:"
   ]
  },
  {
   "cell_type": "code",
   "execution_count": 4,
   "metadata": {},
   "outputs": [
    {
     "data": {
      "text/plain": [
       "<Figure size 640x480 with 1 Axes>"
      ]
     },
     "metadata": {},
     "output_type": "display_data"
    }
   ],
   "source": [
    "import matplotlib.pylab as plt\n",
    "fig, ax = plt.subplots()\n",
    "plt.hist(biomass_fluxes['bio1'])\n",
    "ax.set_ylabel('# ensemble members')\n",
    "ax.set_xlabel('Flux through biomass reaction')\n",
    "plt.show()"
   ]
  },
  {
   "cell_type": "markdown",
   "metadata": {},
   "source": [
    "As you can see, there is quite a bit of variation in the maximum flux through biomass! Keep in mind that this is an ensemble of gapfilled reconstructions with no manual curation, and that none of the uptake rates are reallistically constrained, so these predictions are unrealistically high (100 units of flux through biomass is a doubling time of 36 seconds, at least an order of magnitude faster than even the fittest *E. coli* grown *in vitro*).\n",
    "\n",
    "Our goal now is to identify which features in the ensemble are predictive of flux through biomass. If we can identify these reactions, then turn to the literature or perform an experiment to figure out whether they are really catalyzed by the organism, we can greatly reduce the uncertainty in our predictions of biomass flux!\n",
    "\n",
    "Given that we have a continous output, our problem can be addressed using regression. We will use the binary presence/absence of each reaction in each member of the ensemble as input to a random forest regressor, implemented in [scikit-learn](https://scikit-learn.org/stable/). Many supervised regression models will work for this analysis, but random forest is particularly easy to understand and interpret when the input is binary (i.e. reaction presence/absence)."
   ]
  },
  {
   "cell_type": "code",
   "execution_count": 5,
   "metadata": {},
   "outputs": [],
   "source": [
    "import sklearn\n",
    "from sklearn.ensemble import RandomForestRegressor"
   ]
  },
  {
   "cell_type": "markdown",
   "metadata": {},
   "source": [
    "We reformat the data here, getting the feature states for each ensemble member and converting them to `True`/`False`, then combine them into a single DataFrame with the biomass flux predictions for matched members."
   ]
  },
  {
   "cell_type": "code",
   "execution_count": 6,
   "metadata": {},
   "outputs": [],
   "source": [
    "# Grab the features and states for the ensemble and convert to a dataframe\n",
    "import pandas as pd\n",
    "feature_dict = {}\n",
    "for feature in ensemble.features:\n",
    "    feature_dict[feature.id] = feature.states\n",
    "feature_frame = pd.DataFrame.from_dict(feature_dict)\n",
    "# convert the presence and absence of features to a boolean value\n",
    "feature_frame = feature_frame.astype(bool)\n",
    "# extract biomass and add it to the dataframe, keeping track of the feature names\n",
    "input_cols = feature_frame.columns\n",
    "biomass_fluxes.index = [member_id for member_id in biomass_fluxes.index]\n",
    "feature_frame['bio1'] = biomass_fluxes['bio1']"
   ]
  },
  {
   "cell_type": "markdown",
   "metadata": {},
   "source": [
    "Now we actually construct and fit the random forest regressor, using 100 total trees in the forest. The `oob_score_` reported here is the coefficient of determination (R<sup>2</sup>) calculated using the out-of-bag samples for each tree. As a reminder, R<sup>2</sup> varies from 0 to 1.0, where 1.0 is a perfect fit."
   ]
  },
  {
   "cell_type": "code",
   "execution_count": 7,
   "metadata": {},
   "outputs": [
    {
     "data": {
      "text/plain": [
       "0.8629187445521654"
      ]
     },
     "execution_count": 7,
     "metadata": {},
     "output_type": "execute_result"
    }
   ],
   "source": [
    "# create a regressor to predict biomass flux from reaction presence/absence\n",
    "regressor = RandomForestRegressor(n_estimators=100,oob_score=True)\n",
    "fit_regressor = regressor.fit(X=feature_frame[input_cols],y=feature_frame['bio1'])\n",
    "fit_regressor.oob_score_"
   ]
  },
  {
   "cell_type": "markdown",
   "metadata": {},
   "source": [
    "With a reasonably-performing regressor in hand, we can inspect the important features to identify reactions that contribute to uncertainty in biomass flux predictions."
   ]
  },
  {
   "cell_type": "code",
   "execution_count": 8,
   "metadata": {},
   "outputs": [],
   "source": [
    "imp_frame = pd.DataFrame(fit_regressor.feature_importances_,\n",
    "                        index=feature_frame[input_cols].columns).sort_values(\n",
    "                        by=0,ascending=False)\n",
    "imp_frame.columns = ['importance']"
   ]
  },
  {
   "cell_type": "code",
   "execution_count": 9,
   "metadata": {},
   "outputs": [
    {
     "data": {
      "text/html": [
       "<div>\n",
       "<style scoped>\n",
       "    .dataframe tbody tr th:only-of-type {\n",
       "        vertical-align: middle;\n",
       "    }\n",
       "\n",
       "    .dataframe tbody tr th {\n",
       "        vertical-align: top;\n",
       "    }\n",
       "\n",
       "    .dataframe thead th {\n",
       "        text-align: right;\n",
       "    }\n",
       "</style>\n",
       "<table border=\"1\" class=\"dataframe\">\n",
       "  <thead>\n",
       "    <tr style=\"text-align: right;\">\n",
       "      <th></th>\n",
       "      <th>importance</th>\n",
       "    </tr>\n",
       "  </thead>\n",
       "  <tbody>\n",
       "    <tr>\n",
       "      <th>rxn01640_c_upper_bound</th>\n",
       "      <td>0.131436</td>\n",
       "    </tr>\n",
       "    <tr>\n",
       "      <th>rxn01640_c_lower_bound</th>\n",
       "      <td>0.105932</td>\n",
       "    </tr>\n",
       "    <tr>\n",
       "      <th>rxn12585_c_lower_bound</th>\n",
       "      <td>0.066578</td>\n",
       "    </tr>\n",
       "    <tr>\n",
       "      <th>rxn12585_c_upper_bound</th>\n",
       "      <td>0.063844</td>\n",
       "    </tr>\n",
       "    <tr>\n",
       "      <th>rxn23244_c_lower_bound</th>\n",
       "      <td>0.040210</td>\n",
       "    </tr>\n",
       "    <tr>\n",
       "      <th>rxn15617_c_upper_bound</th>\n",
       "      <td>0.031893</td>\n",
       "    </tr>\n",
       "    <tr>\n",
       "      <th>rxn15617_c_lower_bound</th>\n",
       "      <td>0.030840</td>\n",
       "    </tr>\n",
       "    <tr>\n",
       "      <th>rxn00602_c_lower_bound</th>\n",
       "      <td>0.026529</td>\n",
       "    </tr>\n",
       "    <tr>\n",
       "      <th>rxn00602_c_upper_bound</th>\n",
       "      <td>0.026030</td>\n",
       "    </tr>\n",
       "    <tr>\n",
       "      <th>rxn23244_c_upper_bound</th>\n",
       "      <td>0.021880</td>\n",
       "    </tr>\n",
       "  </tbody>\n",
       "</table>\n",
       "</div>"
      ],
      "text/plain": [
       "                        importance\n",
       "rxn01640_c_upper_bound    0.131436\n",
       "rxn01640_c_lower_bound    0.105932\n",
       "rxn12585_c_lower_bound    0.066578\n",
       "rxn12585_c_upper_bound    0.063844\n",
       "rxn23244_c_lower_bound    0.040210\n",
       "rxn15617_c_upper_bound    0.031893\n",
       "rxn15617_c_lower_bound    0.030840\n",
       "rxn00602_c_lower_bound    0.026529\n",
       "rxn00602_c_upper_bound    0.026030\n",
       "rxn23244_c_upper_bound    0.021880"
      ]
     },
     "execution_count": 9,
     "metadata": {},
     "output_type": "execute_result"
    }
   ],
   "source": [
    "imp_frame.head(10)"
   ]
  },
  {
   "cell_type": "markdown",
   "metadata": {},
   "source": [
    "With the list of important features in hand, the first thing we should do is turn to the literature to see if someone else has already figured out whether these reactions are present or absent in *Staphylococcus aureus*. The top reaction, `rxn01640`, is N-Formimino-L-glutamate iminohydrolase, which is part of the histidine utilization pathway. A quick consultation with a [review on the regulation of histidine utilization in bacteria](https://mmbr.asm.org/content/76/3/565) suggests that the enzyme for this reaction, encoded by the *hutF* gene, is widespread and conserved amongst bacteria. However, the *hutF* gene is part of a second, less common pathway that branches off of the primary histidine utilization pathway. If we consult [PATRIC with a search for the *hutF* gene](https://www.patricbrc.org/view/FeatureList/?keyword(HutF)), we see that, although the gene is widespread, there is no predicted *hutF* gene in any sequenced *Staphylococcus aureus* genome. Although absence of evidence is not evidence of absence, we can be relatively confident that *hutF* is not encoded in the *Staphylococcus aureus* genome, given how well-studied this pathogen is.\n",
    "\n",
    "What happens if we \"correct\" this issue in the ensemble? Let's inactivate the lower and upper bound for the reaction in all the members, then perform flux balance analysis again."
   ]
  },
  {
   "cell_type": "code",
   "execution_count": 10,
   "metadata": {},
   "outputs": [],
   "source": [
    "for member in ensemble.features.get_by_id('rxn01640_c_lower_bound').states:\n",
    "    ensemble.features.get_by_id('rxn01640_c_lower_bound').states[member] = 0\n",
    "    ensemble.features.get_by_id('rxn01640_c_upper_bound').states[member] = 0\n",
    "    \n",
    "biomass_fluxes_post_curation = flux_balance.optimize_ensemble(ensemble,return_flux=\"bio1\")"
   ]
  },
  {
   "cell_type": "code",
   "execution_count": 11,
   "metadata": {},
   "outputs": [
    {
     "data": {
      "image/png": "[encoded data removed]",
      "text/plain": [
       "<Figure size 432x288 with 1 Axes>"
      ]
     },
     "metadata": {
      "needs_background": "light"
     },
     "output_type": "display_data"
    }
   ],
   "source": [
    "import matplotlib.pylab as plt\n",
    "import numpy as np\n",
    "fig, ax = plt.subplots()\n",
    "# declare specific bins for our histogram\n",
    "bins=np.histogram(np.hstack((biomass_fluxes['bio1'],biomass_fluxes_post_curation['bio1'])),\n",
    "                  bins=15)[1]\n",
    "plt.hist(biomass_fluxes['bio1'],\n",
    "         bins,\n",
    "         label = 'Original',\n",
    "         alpha = 0.3,\n",
    "         color='black')\n",
    "plt.hist(biomass_fluxes_post_curation['bio1'],\n",
    "         bins,\n",
    "         label = 'Post-curation',\n",
    "         alpha = 0.4,\n",
    "         color = 'green')\n",
    "plt.axvline(x=biomass_fluxes['bio1'].mean(), c = 'black', alpha = 0.6)\n",
    "plt.axvline(x=biomass_fluxes_post_curation['bio1'].mean(), c = 'green')\n",
    "ax.set_ylabel('# ensemble members')\n",
    "ax.set_xlabel('Flux through biomass reaction')\n",
    "plt.legend(loc='upper right')\n",
    "plt.savefig('post_FBA_curation.svg')\n",
    "plt.savefig('post_FBA_curation.png')\n",
    "plt.show()"
   ]
  },
  {
   "cell_type": "code",
   "execution_count": null,
   "metadata": {},
   "outputs": [],
   "source": []
  },
  {
   "cell_type": "markdown",
   "metadata": {},
   "source": [
    "Here, we show the old distribution in red and the new distribution in blue, with vertical lines at the mean in the same color. As you can see, by resolving the identity of the `hutF`-encoded enzyme, we've reduced the mean and range of predicted flux through biomass. The reduction here is modest, but the process can be repeated for the other important features we identified to continue to refine the distribution and improve the reconstruction in a rational way."
   ]
  }
 ],
 "metadata": {
  "kernelspec": {
   "display_name": "medusa_dev_1",
   "language": "python",
   "name": "medusa_dev_1"
  },
  "language_info": {
   "codemirror_mode": {
    "name": "ipython",
    "version": 3
   },
   "file_extension": ".py",
   "mimetype": "text/x-python",
   "name": "python",
   "nbconvert_exporter": "python",
   "pygments_lexer": "ipython3",
   "version": "3.5.2"
  }
 },
 "nbformat": 4,
 "nbformat_minor": 2
}
