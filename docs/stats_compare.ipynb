{
 "cells": [
  {
   "cell_type": "markdown",
   "metadata": {},
   "source": [
    "### Statistical testing for ensemble simulations\n",
    "\n",
    "This is a placeholder for an example describing how to perform statistical tests to determine whether a predicted growth rate is different in two ensemble FBA simulations."
   ]
  },
  {
   "cell_type": "code",
   "execution_count": 2,
   "metadata": {},
   "outputs": [],
   "source": [
    "import medusa"
   ]
  }
 ],
 "metadata": {
  "kernelspec": {
   "display_name": "medusa_dev_1",
   "language": "python",
   "name": "medusa_dev_1"
  },
  "language_info": {
   "codemirror_mode": {
    "name": "ipython",
    "version": 3
   },
   "file_extension": ".py",
   "mimetype": "text/x-python",
   "name": "python",
   "nbconvert_exporter": "python",
   "pygments_lexer": "ipython3",
   "version": "3.5.2"
  }
 },
 "nbformat": 4,
 "nbformat_minor": 2
}
