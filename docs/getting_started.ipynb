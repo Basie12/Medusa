{
 "cells": [
  {
   "cell_type": "markdown",
   "metadata": {},
   "source": [
    "### Getting Started\n",
    "\n",
    "## Where do ensembles come from?\n",
    "\n",
    "In the constraint-based reconstruction and analysis (COBRA) field, there are a variety of analyses and approaches that have alternative optimal solutions. Examples of this come up often when analyses involve [integer programming](https://en.wikipedia.org/wiki/Integer_programming), where variables in a problem are switched on/off to maximize or minimize an objective value. When integer programming is applied to fill in gaps in a genome-scale metabolic model (GEM) to fulfill a function, such as production of biomass, there are generally multiple sets of equally likely solutions to the problem (e.g. there is more than one unique set of reactions of the same size that enable growth).\n",
    "\n",
    "Beyond examples of analyses where multiple solutions with the *exact same* objective value might exist, keeping track of multiple sub-optimal solutions might be valuable because a biologically-correct solution is almost never the exact same as the most likely numerical solution. Instead, we can hedge our bets by maintaining an ensemble of feasible solutions to a problem that all meet some minimum acceptable likelihood.\n",
    "\n",
    "The primary aim of medusa is to make ensemble analyses more accessible to the COBRA field so that we can start accounting for this uncertainty to improve our predictions and improve our reconstructions more efficiently. The software is written and developed with usability as the top priority, secondary to performance and novelty. Thus, user feedback is essential--please do not hesitate to provide your thoughts or ask questions via an issue on the [medusa github repository](https://github.com/gregmedlock/Medusa/)."
   ]
  },
  {
   "cell_type": "markdown",
   "metadata": {},
   "source": [
    "\n",
    "## Loading a model and inspecting it\n",
    "\n",
    "The easiest way to see the contents of ensembles in Medusa is to load test models. Here, we use a function that takes the E. coli core metabolism reconstruction from cobrapy and randomly removes components to generate ensemble members.\n"
   ]
  },
  {
   "cell_type": "code",
   "execution_count": 1,
   "metadata": {
    "collapsed": false
   },
   "outputs": [],
   "source": [
    "import medusa\n",
    "from medusa.test.test_ensemble import construct_textbook_ensemble\n",
    "\n",
    "example_ensemble = construct_textbook_ensemble()"
   ]
  },
  {
   "cell_type": "markdown",
   "metadata": {},
   "source": [
    "In medusa, we represent an ensemble of genome-scale metabolic network reconstructions (GENREs) using the `medusa.Ensemble` object. Each `Ensemble` has three key attributes that specify the structure of the ensemble.\n",
    "\n",
    "## Components of an ensemble: base_model\n",
    "\n",
    "The first is the `base_model`, which is a `cobra.Model` object that represents all the possible states of an individual member within the ensemble. Any reaction, metabolite, or gene that is only present in a subset of ensemble members will be present in `base_model`. You can inspect the `base_model` and manipulate it just like any other `cobra.Model` object."
   ]
  },
  {
   "cell_type": "code",
   "execution_count": 2,
   "metadata": {
    "collapsed": false
   },
   "outputs": [
    {
     "data": {
      "text/html": [
       "\n",
       "        <table>\n",
       "            <tr>\n",
       "                <td><strong>Name</strong></td>\n",
       "                <td>first_textbook</td>\n",
       "            </tr><tr>\n",
       "                <td><strong>Memory address</strong></td>\n",
       "                <td>0x07fe3c110df98</td>\n",
       "            </tr><tr>\n",
       "                <td><strong>Number of metabolites</strong></td>\n",
       "                <td>72</td>\n",
       "            </tr><tr>\n",
       "                <td><strong>Number of reactions</strong></td>\n",
       "                <td>95</td>\n",
       "            </tr><tr>\n",
       "                <td><strong>Objective expression</strong></td>\n",
       "                <td>1.0*Biomass_Ecoli_core - 1.0*Biomass_Ecoli_core_reverse_2cdba</td>\n",
       "            </tr><tr>\n",
       "                <td><strong>Compartments</strong></td>\n",
       "                <td>extracellular, cytosol</td>\n",
       "            </tr>\n",
       "          </table>"
      ],
      "text/plain": [
       "<Model first_textbook at 0x7fe3c110df98>"
      ]
     },
     "execution_count": 2,
     "metadata": {},
     "output_type": "execute_result"
    }
   ],
   "source": [
    "extracted_base_model = example_ensemble.base_model\n",
    "extracted_base_model"
   ]
  },
  {
   "cell_type": "markdown",
   "metadata": {},
   "source": [
    "## Components of an ensemble: members\n",
    "\n",
    "The second attribute that each `Ensemble` has is a structure called `members`. `Ensemble.members` maps an identifier for each individual GENRE in the ensemble to a `medusa.Member` object, which holds information about a single member. \n",
    "\n",
    "`Ensemble.members` is represented by a custom datatype implemented in cobrapy called a DictList, which is essentially a standard dictionary in python that can also be accessed using integer indices like a list (e.g. dictlist[0] returns the first element in the dictlist)."
   ]
  },
  {
   "cell_type": "code",
   "execution_count": 3,
   "metadata": {
    "collapsed": false
   },
   "outputs": [
    {
     "data": {
      "text/plain": [
       "[<Member first_textbook at 0x7fe3c1286e80>,\n",
       " <Member second_textbook at 0x7fe3c1286358>]"
      ]
     },
     "execution_count": 3,
     "metadata": {},
     "output_type": "execute_result"
    }
   ],
   "source": [
    "# looks like a list when we print it\n",
    "example_ensemble.members"
   ]
  },
  {
   "cell_type": "code",
   "execution_count": 4,
   "metadata": {
    "collapsed": false
   },
   "outputs": [],
   "source": [
    "# Get the first member with integer indexing\n",
    "first_member = example_ensemble.members[0]"
   ]
  },
  {
   "cell_type": "markdown",
   "metadata": {},
   "source": [
    "Each `Member` within the `Ensemble.members` DictList has a handful of attributes as well. You can check the ensemble that the member belongs to, the id of the member, and the network states for that member (we'll discuss states more below)."
   ]
  },
  {
   "cell_type": "code",
   "execution_count": 5,
   "metadata": {
    "collapsed": false
   },
   "outputs": [
    {
     "name": "stdout",
     "output_type": "stream",
     "text": [
      "textbook_ensemble\n",
      "first_textbook\n",
      "{<Feature ACt2r_upper_bound at 0x7fe3c116db38>: 1000.0, <Feature ACt2r_lower_bound at 0x7fe3c116da58>: -1000.0, <Feature ACALDt_lower_bound at 0x7fe3c116d550>: 0.0, <Feature ACALDt_upper_bound at 0x7fe3c116d278>: 0.0, <Feature ACKr_upper_bound at 0x7fe3c116d3c8>: 0.0, <Feature ACONTb_lower_bound at 0x7fe3c116d9b0>: -1000.0, <Feature ACONTb_upper_bound at 0x7fe3c116dac8>: 1000.0, <Feature ACKr_lower_bound at 0x7fe3c116d5f8>: 0.0}\n"
     ]
    }
   ],
   "source": [
    "print(first_member.ensemble)\n",
    "print(first_member.id)\n",
    "print(first_member.states)"
   ]
  },
  {
   "cell_type": "markdown",
   "metadata": {},
   "source": [
    "## Components of an ensemble: features\n",
    "\n",
    "The states printed above are directly connected to the third attribute that `Ensemble` contains, `Ensemble.features`, which is also a DictList object. `Ensemble.features` contains `medusa.Feature` entries, which specify the components of the `Ensemble.base_model` that vary across the entire ensemble. "
   ]
  },
  {
   "cell_type": "code",
   "execution_count": 6,
   "metadata": {
    "collapsed": false
   },
   "outputs": [
    {
     "data": {
      "text/plain": [
       "[<Feature ACONTb_lower_bound at 0x7fe3c116d9b0>,\n",
       " <Feature ACONTb_upper_bound at 0x7fe3c116dac8>,\n",
       " <Feature ACt2r_lower_bound at 0x7fe3c116da58>,\n",
       " <Feature ACt2r_upper_bound at 0x7fe3c116db38>,\n",
       " <Feature ACKr_lower_bound at 0x7fe3c116d5f8>,\n",
       " <Feature ACKr_upper_bound at 0x7fe3c116d3c8>,\n",
       " <Feature ACALDt_lower_bound at 0x7fe3c116d550>,\n",
       " <Feature ACALDt_upper_bound at 0x7fe3c116d278>]"
      ]
     },
     "execution_count": 6,
     "metadata": {},
     "output_type": "execute_result"
    }
   ],
   "source": [
    "example_ensemble.features"
   ]
  },
  {
   "cell_type": "markdown",
   "metadata": {},
   "source": [
    " "
   ]
  },
  {
   "cell_type": "markdown",
   "metadata": {
    "collapsed": true
   },
   "source": [
    "Here, we see that this `Ensemble` has 8 features. Each `Feature` object specifies a network component that has a variable parameter value in at least one member of the ensemble (e.g. at least one ensemble member is missing the reaction).\n",
    "\n",
    "In this case, there are features for 4 reactions, `ACALDt`,`ACKr`,`ACONTb`, and `ACt2r`. There are two `Feature` objects for each reaction, corresponding to the lower and upper bound for that reaction.\n",
    "\n",
    "This information can be inferred from feature ID (`medusa.feature.id`), but each `Feature` also has a set of attributes that encode the information. Some useful attributes, in order the order printed below:  getting the `Ensemble` that the `Feature` belongs to, the component in the `Ensemble.base_model` that the `Feature` describes, the attribute of the component in the `Ensemble.base_model` whose value the `Feature` specifies, and the ID of the `Feature`:"
   ]
  },
  {
   "cell_type": "code",
   "execution_count": 7,
   "metadata": {
    "collapsed": false
   },
   "outputs": [
    {
     "name": "stdout",
     "output_type": "stream",
     "text": [
      "textbook_ensemble\n",
      "ACONTb: acon_C_c + h2o_c <=> icit_c\n",
      "lower_bound\n",
      "ACONTb_lower_bound\n"
     ]
    }
   ],
   "source": [
    "first_feature = example_ensemble.features[0]\n",
    "print(first_feature.ensemble)\n",
    "print(first_feature.base_component)\n",
    "print(first_feature.component_attribute)\n",
    "print(first_feature.id)"
   ]
  },
  {
   "cell_type": "markdown",
   "metadata": {},
   "source": [
    "Just as each `member` has an attribute, `states`, that returns the value of every feature for that `member`, each `feature` has a `states` dictionary that maps each `member.id` to the value of the `feature` in the corresponding `member`, e.g.:"
   ]
  },
  {
   "cell_type": "code",
   "execution_count": 8,
   "metadata": {
    "collapsed": false
   },
   "outputs": [
    {
     "name": "stdout",
     "output_type": "stream",
     "text": [
      "{'first_textbook': -1000.0, 'second_textbook': 0.0}\n"
     ]
    }
   ],
   "source": [
    "print(first_feature.states)"
   ]
  },
  {
   "cell_type": "markdown",
   "metadata": {},
   "source": [
    "## Strategies for getting information about an ensemble and its members\n",
    "\n",
    "Where possible, we recycled conventions from cobrapy for accessing information about attributes. In cobrapy, the `Model` object has multiple containers in the form of DictLists: `Model.reactions`,`Model.metabolites`,`Model.genes`. Equivalently in medusa, each `Ensemble` has similarly constructed containers: `Ensemble.members` and `Ensemble.features`.\n",
    "\n",
    "As such, information about specific `Member` and `Feature` objects can be accessed just like `Reaction`, `Metabolite`, and `Gene` objects in cobrapy:"
   ]
  },
  {
   "cell_type": "code",
   "execution_count": 9,
   "metadata": {
    "collapsed": false
   },
   "outputs": [
    {
     "name": "stdout",
     "output_type": "stream",
     "text": [
      "ACALDt: acald_e <=> acald_c\n",
      "ACALDt: acald_e <=> acald_c\n",
      "lower_bound\n",
      "\n",
      "Here are the states for this member:\n",
      "{<Feature ACt2r_upper_bound at 0x7fe3c116db38>: 1000.0, <Feature ACt2r_lower_bound at 0x7fe3c116da58>: -1000.0, <Feature ACALDt_lower_bound at 0x7fe3c116d550>: 0.0, <Feature ACALDt_upper_bound at 0x7fe3c116d278>: 0.0, <Feature ACKr_upper_bound at 0x7fe3c116d3c8>: 0.0, <Feature ACONTb_lower_bound at 0x7fe3c116d9b0>: -1000.0, <Feature ACONTb_upper_bound at 0x7fe3c116dac8>: 1000.0, <Feature ACKr_lower_bound at 0x7fe3c116d5f8>: 0.0}\n"
     ]
    }
   ],
   "source": [
    "# remember, our Ensemble holds a normal cobrapy Model in base_model\n",
    "extracted_base_model = example_ensemble.base_model\n",
    "# Accessing object by id is common in cobrapy\n",
    "rxn = extracted_base_model.reactions.get_by_id('ACALDt')\n",
    "# We can do the same thing for features:\n",
    "feat = example_ensemble.features.get_by_id('ACALDt_lower_bound')\n",
    "print(rxn)\n",
    "print(feat.base_component)\n",
    "print(feat.component_attribute)\n",
    "\n",
    "# And for members:\n",
    "memb = example_ensemble.members.get_by_id('first_textbook')\n",
    "print('\\nHere are the states for this member:')\n",
    "print(memb.states)"
   ]
  },
  {
   "cell_type": "markdown",
   "metadata": {},
   "source": [
    "These DictList objects are all [iterables](https://docs.python.org/3/glossary.html#term-iterable), meaning that any python operation that acts on an iterable can take them as input. This is often convenient when working with either cobrapy `Model`s or medusa `Ensemble`s. For example, suppose we are interested in getting the list of all components described by features in the `Ensemble`:"
   ]
  },
  {
   "cell_type": "code",
   "execution_count": 10,
   "metadata": {
    "collapsed": false
   },
   "outputs": [
    {
     "name": "stdout",
     "output_type": "stream",
     "text": [
      "[<Reaction ACONTb at 0x7fe3c1035470>, <Reaction ACONTb at 0x7fe3c1035470>, <Reaction ACt2r at 0x7fe3c1035c88>, <Reaction ACt2r at 0x7fe3c1035c88>, <Reaction ACKr at 0x7fe3c0f6f978>, <Reaction ACKr at 0x7fe3c0f6f978>, <Reaction ACALDt at 0x7fe3c0f6f908>, <Reaction ACALDt at 0x7fe3c0f6f908>]\n",
      "[<Reaction ACONTb at 0x7fe3c1035470>, <Reaction ACONTb at 0x7fe3c1035470>, <Reaction ACt2r at 0x7fe3c1035c88>, <Reaction ACt2r at 0x7fe3c1035c88>, <Reaction ACKr at 0x7fe3c0f6f978>, <Reaction ACKr at 0x7fe3c0f6f978>, <Reaction ACALDt at 0x7fe3c0f6f908>, <Reaction ACALDt at 0x7fe3c0f6f908>]\n"
     ]
    }
   ],
   "source": [
    "components = []\n",
    "for feat in example_ensemble.features:\n",
    "    components.append(feat.base_component)\n",
    "\n",
    "print(components)\n",
    "\n",
    "# or, use the one-liner which gives the same result:\n",
    "components = [feat.base_component for feat in example_ensemble.features]\n",
    "\n",
    "print(components)"
   ]
  }
 ],
 "metadata": {
  "kernelspec": {
   "display_name": "medusa_dev_1",
   "language": "python",
   "name": "medusa_dev_1"
  },
  "language_info": {
   "codemirror_mode": {
    "name": "ipython",
    "version": 3
   },
   "file_extension": ".py",
   "mimetype": "text/x-python",
   "name": "python",
   "nbconvert_exporter": "python",
   "pygments_lexer": "ipython3",
   "version": "3.5.2"
  }
 },
 "nbformat": 4,
 "nbformat_minor": 2
}
