{
 "cells": [
  {
   "cell_type": "markdown",
   "metadata": {},
   "source": [
    "### Getting Started\n",
    "\n",
    "## Loading a model and inspecting it\n",
    "\n",
    "The easiest way to see the contents of ensembles in Medusa is to load test models. Here, we use a function that takes the E. coli core metabolism reconstruction from cobrapy and randomly removes components to generate ensemble members."
   ]
  },
  {
   "cell_type": "code",
   "execution_count": 1,
   "metadata": {
    "collapsed": false
   },
   "outputs": [],
   "source": [
    "import medusa\n",
    "from medusa.test.test_ensemble import construct_textbook_ensemble\n",
    "\n",
    "example_ensemble = construct_textbook_ensemble()"
   ]
  },
  {
   "cell_type": "markdown",
   "metadata": {},
   "source": [
    "In medusa, we represent an ensemble of genome-scale metabolic network reconstructions (GENREs) using the `medusa.Ensemble` object. Each `Ensemble` has three key attributes that specify the structure of the ensemble.\n",
    "\n",
    "The first is the `base_model`, which is a `cobra.Model` object that represents all the possible states of an individual member within the ensemble. You can inspect the `base_model` and manipulate it just like any other `cobra.Model` object."
   ]
  },
  {
   "cell_type": "code",
   "execution_count": 2,
   "metadata": {
    "collapsed": false
   },
   "outputs": [
    {
     "data": {
      "text/html": [
       "\n",
       "        <table>\n",
       "            <tr>\n",
       "                <td><strong>Name</strong></td>\n",
       "                <td>first_textbook</td>\n",
       "            </tr><tr>\n",
       "                <td><strong>Memory address</strong></td>\n",
       "                <td>0x07fc2b14b0f98</td>\n",
       "            </tr><tr>\n",
       "                <td><strong>Number of metabolites</strong></td>\n",
       "                <td>72</td>\n",
       "            </tr><tr>\n",
       "                <td><strong>Number of reactions</strong></td>\n",
       "                <td>95</td>\n",
       "            </tr><tr>\n",
       "                <td><strong>Objective expression</strong></td>\n",
       "                <td>1.0*Biomass_Ecoli_core - 1.0*Biomass_Ecoli_core_reverse_2cdba</td>\n",
       "            </tr><tr>\n",
       "                <td><strong>Compartments</strong></td>\n",
       "                <td>extracellular, cytosol</td>\n",
       "            </tr>\n",
       "          </table>"
      ],
      "text/plain": [
       "<Model first_textbook at 0x7fc2b14b0f98>"
      ]
     },
     "execution_count": 2,
     "metadata": {},
     "output_type": "execute_result"
    }
   ],
   "source": [
    "extracted_base_model = example_ensemble.base_model\n",
    "extracted_base_model"
   ]
  },
  {
   "cell_type": "markdown",
   "metadata": {},
   "source": [
    "The second attribute that each `Ensemble` has is a structure called `members`. `Ensemble.members` maps an identifier for each individual GENRE in the ensemble to a `medusa.member` object, which holds information about a single member. \n",
    "\n",
    "`Ensemble.members` is represented by a custom datatype implemented in cobrapy called a DictList, which is essentially a standard dictionary in python that can also be accessed using integer indices like a list (e.g. dictlist[0] returns the first element in the dictlist)."
   ]
  },
  {
   "cell_type": "code",
   "execution_count": 3,
   "metadata": {
    "collapsed": false
   },
   "outputs": [
    {
     "data": {
      "text/plain": [
       "[<Member first_textbook at 0x7fc2b1503ef0>,\n",
       " <Member second_textbook at 0x7fc2b1503940>]"
      ]
     },
     "execution_count": 3,
     "metadata": {},
     "output_type": "execute_result"
    }
   ],
   "source": [
    "# looks like a list when we print it\n",
    "example_ensemble.members"
   ]
  },
  {
   "cell_type": "code",
   "execution_count": 4,
   "metadata": {
    "collapsed": false
   },
   "outputs": [],
   "source": [
    "# Get the first member with integer indexing\n",
    "first_member = example_ensemble.members[0]"
   ]
  },
  {
   "cell_type": "markdown",
   "metadata": {},
   "source": [
    "Each `medusa.member` object within the `Ensemble.members` DictList has a handful of attributes as well. You can check the ensemble that the member belongs to, the id of the member, and the network states for that member (we'll discuss states more below)."
   ]
  },
  {
   "cell_type": "code",
   "execution_count": 5,
   "metadata": {
    "collapsed": false
   },
   "outputs": [
    {
     "name": "stdout",
     "output_type": "stream",
     "text": [
      "textbook_ensemble\n",
      "first_textbook\n",
      "{<Feature ACt2r_lower_bound at 0x7fc2b14a1128>: -1000.0, <Feature ACONTb_upper_bound at 0x7fc2b1503e48>: 1000.0, <Feature ACALDt_lower_bound at 0x7fc2b14a1860>: 0.0, <Feature ACALDt_upper_bound at 0x7fc2b14a1240>: 0.0, <Feature ACKr_upper_bound at 0x7fc2b1503f98>: 0.0, <Feature ACKr_lower_bound at 0x7fc2b1503dd8>: 0.0, <Feature ACt2r_upper_bound at 0x7fc2b14a19e8>: 1000.0, <Feature ACONTb_lower_bound at 0x7fc2b15037f0>: -1000.0}\n"
     ]
    }
   ],
   "source": [
    "print(first_member.ensemble)\n",
    "print(first_member.id)\n",
    "print(first_member.states)"
   ]
  },
  {
   "cell_type": "markdown",
   "metadata": {},
   "source": [
    "These states are directly connected to the third attribute that `Ensemble` contains, `Ensemble.features`, which is also a DictList object. `Ensemble.features` contains `medusa.feature` entries, which specify the components of the `Ensemble.base_model` that vary across the entire ensemble. "
   ]
  },
  {
   "cell_type": "code",
   "execution_count": null,
   "metadata": {
    "collapsed": true
   },
   "outputs": [],
   "source": []
  },
  {
   "cell_type": "markdown",
   "metadata": {},
   "source": [
    " "
   ]
  },
  {
   "cell_type": "code",
   "execution_count": null,
   "metadata": {
    "collapsed": true
   },
   "outputs": [],
   "source": []
  },
  {
   "cell_type": "code",
   "execution_count": null,
   "metadata": {
    "collapsed": true
   },
   "outputs": [],
   "source": []
  }
 ],
 "metadata": {
  "kernelspec": {
   "display_name": "medusa_dev_1",
   "language": "python",
   "name": "medusa_dev_1"
  },
  "language_info": {
   "codemirror_mode": {
    "name": "ipython",
    "version": 3
   },
   "file_extension": ".py",
   "mimetype": "text/x-python",
   "name": "python",
   "nbconvert_exporter": "python",
   "pygments_lexer": "ipython3",
   "version": "3.5.2"
  }
 },
 "nbformat": 4,
 "nbformat_minor": 2
}
