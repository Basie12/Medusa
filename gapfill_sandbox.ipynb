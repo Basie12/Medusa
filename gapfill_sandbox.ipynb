{
 "cells": [
  {
   "cell_type": "code",
   "execution_count": 1,
   "metadata": {},
   "outputs": [],
   "source": [
    "import cobra\n",
    "from cobra.test import create_test_model\n",
    "from cobra.flux_analysis.gapfilling import GapFiller\n",
    "from medusa.core.ensemble import Ensemble\n",
    "from medusa.flux_analysis import flux_balance\n",
    "from medusa.reconstruct.expand.expand import gapfill_to_ensemble\n",
    "import pandas as pd\n",
    "import random"
   ]
  },
  {
   "cell_type": "code",
   "execution_count": null,
   "metadata": {},
   "outputs": [],
   "source": []
  },
  {
   "cell_type": "code",
   "execution_count": 2,
   "metadata": {},
   "outputs": [],
   "source": [
    "def construct_textbook_ensemble():\n",
    "    # create two identical models and make an ensemble\n",
    "    model1 = create_test_model(\"textbook\")\n",
    "    model1.remove_reactions(model1.reactions[1:3])\n",
    "    model1.id = 'first_textbook'\n",
    "    model2 = create_test_model(\"textbook\")\n",
    "    model2.remove_reactions(model2.reactions[4:6])\n",
    "    model2.id = 'second_textbook'\n",
    "    textbook_ensemble = Ensemble(model_list=[model1,model2],\n",
    "                                        base_id='textbook_ensemble')\n",
    "    return textbook_ensemble\n",
    "\n",
    "def construct_mixed_ensemble():\n",
    "    # create 4 models, which have reactions removed and a bound difference.\n",
    "    model1 = create_test_model(\"textbook\")\n",
    "    model1.remove_reactions(model1.reactions[1:3])\n",
    "    model1.id = 'first_textbook'\n",
    "    model2 = create_test_model(\"textbook\")\n",
    "    model2.remove_reactions(model2.reactions[4:6])\n",
    "    model2.id = 'second_textbook'\n",
    "    model3 = create_test_model(\"textbook\")\n",
    "    model3.remove_reactions(model3.reactions[5:7])\n",
    "    model3.id = 'third_textbook'\n",
    "    model4 = model3.copy()\n",
    "    model4.id = 'dual_features'\n",
    "    model4.reactions[1].lower_bound = 0\n",
    "    model_list = [model1,model2,model3,model4]\n",
    "    \n",
    "    mixed_ensemble = Ensemble(list_of_models=model_list,identifier='textbook_ensemble')\n",
    "    return mixed_ensemble\n",
    "\n",
    "def break_for_gapfill(model,n_reactions):\n",
    "    model = model.copy()\n",
    "    non_boundaries = [rxn for rxn in model.reactions if rxn not in model.boundary]\n",
    "    reaction_indices = random.sample(list(range(0,len(non_boundaries))),n_reactions)\n",
    "    universal_model = cobra.core.Model()\n",
    "    rxns_to_remove = [non_boundaries[rxn] for rxn in reaction_indices]\n",
    "    rxn_copies = [rxn.copy() for rxn in rxns_to_remove]\n",
    "    model.remove_reactions(rxns_to_remove)\n",
    "    universal_model.add_reactions(rxn_copies)\n",
    "    return(model,universal_model)"
   ]
  },
  {
   "cell_type": "code",
   "execution_count": 3,
   "metadata": {},
   "outputs": [],
   "source": [
    "testmod = create_test_model(\"salmonella\")\n",
    "# open all exchange reactions\n",
    "for rxn in testmod.exchanges:\n",
    "    rxn.lower_bound = -1\n",
    "breakmod,universal = break_for_gapfill(testmod,200)"
   ]
  },
  {
   "cell_type": "code",
   "execution_count": 4,
   "metadata": {},
   "outputs": [
    {
     "data": {
      "text/html": [
       "\n",
       "        <table>\n",
       "            <tr>\n",
       "                <td><strong>Name</strong></td>\n",
       "                <td>Salmonella_consensus_build_1</td>\n",
       "            </tr><tr>\n",
       "                <td><strong>Memory address</strong></td>\n",
       "                <td>0x01070cf7f0</td>\n",
       "            </tr><tr>\n",
       "                <td><strong>Number of metabolites</strong></td>\n",
       "                <td>1802</td>\n",
       "            </tr><tr>\n",
       "                <td><strong>Number of reactions</strong></td>\n",
       "                <td>2546</td>\n",
       "            </tr><tr>\n",
       "                <td><strong>Objective expression</strong></td>\n",
       "                <td>1.0*biomass_iRR1083_metals - 1.0*biomass_iRR1083_metals_reverse_00f08</td>\n",
       "            </tr><tr>\n",
       "                <td><strong>Compartments</strong></td>\n",
       "                <td>Cytoplasm, Periplasm, Extracellular</td>\n",
       "            </tr>\n",
       "          </table>"
      ],
      "text/plain": [
       "<Model Salmonella_consensus_build_1 at 0x1070cf7f0>"
      ]
     },
     "execution_count": 4,
     "metadata": {},
     "output_type": "execute_result"
    }
   ],
   "source": [
    "testmod"
   ]
  },
  {
   "cell_type": "code",
   "execution_count": 5,
   "metadata": {},
   "outputs": [
    {
     "data": {
      "text/html": [
       "\n",
       "        <table>\n",
       "            <tr>\n",
       "                <td><strong>Name</strong></td>\n",
       "                <td>Salmonella_consensus_build_1</td>\n",
       "            </tr><tr>\n",
       "                <td><strong>Memory address</strong></td>\n",
       "                <td>0x0108de3240</td>\n",
       "            </tr><tr>\n",
       "                <td><strong>Number of metabolites</strong></td>\n",
       "                <td>1802</td>\n",
       "            </tr><tr>\n",
       "                <td><strong>Number of reactions</strong></td>\n",
       "                <td>2346</td>\n",
       "            </tr><tr>\n",
       "                <td><strong>Objective expression</strong></td>\n",
       "                <td>1.0*biomass_iRR1083_metals - 1.0*biomass_iRR1083_metals_reverse_00f08</td>\n",
       "            </tr><tr>\n",
       "                <td><strong>Compartments</strong></td>\n",
       "                <td>Cytoplasm, Periplasm, Extracellular</td>\n",
       "            </tr>\n",
       "          </table>"
      ],
      "text/plain": [
       "<Model Salmonella_consensus_build_1 at 0x108de3240>"
      ]
     },
     "execution_count": 5,
     "metadata": {},
     "output_type": "execute_result"
    }
   ],
   "source": [
    "breakmod"
   ]
  },
  {
   "cell_type": "code",
   "execution_count": null,
   "metadata": {},
   "outputs": [],
   "source": []
  },
  {
   "cell_type": "code",
   "execution_count": 6,
   "metadata": {},
   "outputs": [],
   "source": [
    "breakmod.solver='gurobi'"
   ]
  },
  {
   "cell_type": "code",
   "execution_count": 7,
   "metadata": {},
   "outputs": [
    {
     "name": "stdout",
     "output_type": "stream",
     "text": [
      "Changed value of parameter Method to 0\n",
      "   Prev: -1  Min: -1  Max: 5  Default: -1\n",
      "Parameter Method unchanged\n",
      "   Value: 0  Min: -1  Max: 5  Default: -1\n",
      "Changed value of parameter Presolve to 0\n",
      "   Prev: -1  Min: -1  Max: 2  Default: -1\n",
      "finished gap-filling. Constructing ensemble...\n"
     ]
    },
    {
     "ename": "TypeError",
     "evalue": "'<' not supported between instances of 'Reaction' and 'Reaction'",
     "output_type": "error",
     "traceback": [
      "\u001b[0;31m---------------------------------------------------------------------------\u001b[0m",
      "\u001b[0;31mTypeError\u001b[0m                                 Traceback (most recent call last)",
      "\u001b[0;32m<ipython-input-7-528a618768e9>\u001b[0m in \u001b[0;36m<module>\u001b[0;34m()\u001b[0m\n\u001b[0;32m----> 1\u001b[0;31m \u001b[0mgapfilled_ensemble\u001b[0m \u001b[0;34m=\u001b[0m \u001b[0mgapfill_to_ensemble\u001b[0m\u001b[0;34m(\u001b[0m\u001b[0mbreakmod\u001b[0m\u001b[0;34m,\u001b[0m\u001b[0miterations\u001b[0m\u001b[0;34m=\u001b[0m\u001b[0;36m20\u001b[0m\u001b[0;34m,\u001b[0m\u001b[0muniversal\u001b[0m\u001b[0;34m=\u001b[0m\u001b[0muniversal\u001b[0m\u001b[0;34m,\u001b[0m                                       \u001b[0mlower_bound\u001b[0m\u001b[0;34m=\u001b[0m\u001b[0;36m0.5\u001b[0m\u001b[0;34m,\u001b[0m\u001b[0mpenalties\u001b[0m\u001b[0;34m=\u001b[0m\u001b[0;32mNone\u001b[0m\u001b[0;34m,\u001b[0m\u001b[0mexchange_reactions\u001b[0m\u001b[0;34m=\u001b[0m\u001b[0;32mFalse\u001b[0m\u001b[0;34m,\u001b[0m                                       \u001b[0mdemand_reactions\u001b[0m\u001b[0;34m=\u001b[0m\u001b[0;32mFalse\u001b[0m\u001b[0;34m,\u001b[0m \u001b[0minteger_threshold\u001b[0m\u001b[0;34m=\u001b[0m\u001b[0;36m1E-8\u001b[0m\u001b[0;34m)\u001b[0m\u001b[0;34m\u001b[0m\u001b[0m\n\u001b[0m",
      "\u001b[0;32m~/Documents/projects/Medusa/medusa/reconstruct/expand/expand.py\u001b[0m in \u001b[0;36mgapfill_to_ensemble\u001b[0;34m(model, iterations, universal, lower_bound, penalties, exchange_reactions, demand_reactions, integer_threshold)\u001b[0m\n\u001b[1;32m     59\u001b[0m     \u001b[0mprint\u001b[0m\u001b[0;34m(\u001b[0m\u001b[0;34m\"finished gap-filling. Constructing ensemble...\"\u001b[0m\u001b[0;34m)\u001b[0m\u001b[0;34m\u001b[0m\u001b[0m\n\u001b[1;32m     60\u001b[0m     \u001b[0;31m# remove non-unique solutions\u001b[0m\u001b[0;34m\u001b[0m\u001b[0;34m\u001b[0m\u001b[0m\n\u001b[0;32m---> 61\u001b[0;31m     \u001b[0msolutions\u001b[0m\u001b[0;34m.\u001b[0m\u001b[0msort\u001b[0m\u001b[0;34m(\u001b[0m\u001b[0;34m)\u001b[0m\u001b[0;34m\u001b[0m\u001b[0m\n\u001b[0m\u001b[1;32m     62\u001b[0m     \u001b[0msolutions\u001b[0m \u001b[0;34m=\u001b[0m \u001b[0mlist\u001b[0m\u001b[0;34m(\u001b[0m\u001b[0msolutions\u001b[0m \u001b[0;32mfor\u001b[0m \u001b[0msolutions\u001b[0m\u001b[0;34m,\u001b[0m\u001b[0m_\u001b[0m \u001b[0;32min\u001b[0m \u001b[0mitertools\u001b[0m\u001b[0;34m.\u001b[0m\u001b[0mgroupby\u001b[0m\u001b[0;34m(\u001b[0m\u001b[0msolutions\u001b[0m\u001b[0;34m)\u001b[0m\u001b[0;34m)\u001b[0m\u001b[0;34m\u001b[0m\u001b[0m\n\u001b[1;32m     63\u001b[0m \u001b[0;34m\u001b[0m\u001b[0m\n",
      "\u001b[0;31mTypeError\u001b[0m: '<' not supported between instances of 'Reaction' and 'Reaction'"
     ]
    }
   ],
   "source": [
    "gapfilled_ensemble = gapfill_to_ensemble(breakmod,iterations=20,universal=universal,\\\n",
    "                                       lower_bound=0.5,penalties=None,exchange_reactions=False,\\\n",
    "                                       demand_reactions=False, integer_threshold=1E-8)"
   ]
  },
  {
   "cell_type": "code",
   "execution_count": null,
   "metadata": {},
   "outputs": [],
   "source": [
    "gapfilled_ensemble"
   ]
  },
  {
   "cell_type": "code",
   "execution_count": null,
   "metadata": {},
   "outputs": [],
   "source": []
  },
  {
   "cell_type": "code",
   "execution_count": null,
   "metadata": {},
   "outputs": [],
   "source": []
  },
  {
   "cell_type": "code",
   "execution_count": null,
   "metadata": {},
   "outputs": [],
   "source": [
    "fill_dem = GapFiller(breakmod,universal=universal,\\\n",
    "                                       lower_bound=0.5,penalties=None,exchange_reactions=False,\\\n",
    "                                       demand_reactions=False, integer_threshold=1E-8)"
   ]
  },
  {
   "cell_type": "code",
   "execution_count": null,
   "metadata": {},
   "outputs": [],
   "source": [
    "sols = fill_dem.fill(iterations=100)"
   ]
  },
  {
   "cell_type": "code",
   "execution_count": null,
   "metadata": {},
   "outputs": [],
   "source": [
    "len(sols[0])"
   ]
  },
  {
   "cell_type": "code",
   "execution_count": null,
   "metadata": {},
   "outputs": [],
   "source": [
    "sol = []\n",
    "for s in sols:\n",
    "    sol = sol + s\n",
    "len(set(sol))"
   ]
  },
  {
   "cell_type": "code",
   "execution_count": null,
   "metadata": {},
   "outputs": [],
   "source": []
  },
  {
   "cell_type": "code",
   "execution_count": null,
   "metadata": {},
   "outputs": [],
   "source": [
    "gapfill_solutions[0]"
   ]
  },
  {
   "cell_type": "code",
   "execution_count": null,
   "metadata": {},
   "outputs": [],
   "source": [
    "sol = []\n",
    "for s in gapfill_solutions:\n",
    "    sol = sol + s\n",
    "len(set(sol))"
   ]
  },
  {
   "cell_type": "code",
   "execution_count": null,
   "metadata": {},
   "outputs": [],
   "source": [
    "for exchange in test_ensemble.base_model.medium.keys():\n",
    "    medium = test_ensemble.base_model.medium\n",
    "    old = medium[exchange]\n",
    "    medium[exchange] = 0\n",
    "    test_ensemble.base_model.medium = medium\n",
    "    print(test_ensemble.base_model.medium)\n",
    "    sol = flux_balance.optimize_ensemble(test_ensemble,'Biomass_Ecoli_core')\n",
    "    print(sol)\n",
    "    medium[exchange] = old\n",
    "    test_ensemble.base_model.medium = medium"
   ]
  },
  {
   "cell_type": "code",
   "execution_count": null,
   "metadata": {},
   "outputs": [],
   "source": []
  },
  {
   "cell_type": "code",
   "execution_count": null,
   "metadata": {},
   "outputs": [],
   "source": [
    "test_ensemble.base_model.medium['EX_glc__D_e']"
   ]
  },
  {
   "cell_type": "code",
   "execution_count": null,
   "metadata": {},
   "outputs": [],
   "source": [
    "model = create_test_model('salmonella')"
   ]
  },
  {
   "cell_type": "code",
   "execution_count": null,
   "metadata": {},
   "outputs": [],
   "source": [
    "model"
   ]
  },
  {
   "cell_type": "code",
   "execution_count": null,
   "metadata": {},
   "outputs": [],
   "source": [
    "# randomly remove reactions from salmonella model and generate copies\n",
    "def degrade_model(model,model_count,n_reactions):\n",
    "    list_of_models = []\n",
    "    for i in range(0,model_count):\n",
    "        reaction_indices = random.sample(list(range(0,len(model.reactions))),n_reactions)\n",
    "        model_copy = model.copy()\n",
    "        rxns_to_remove = [model_copy.reactions[i] for i in reaction_indices]\n",
    "        model_copy.remove_reactions(rxns_to_remove)\n",
    "        model_copy.id = model_copy.id + str(i)\n",
    "        list_of_models.append(model_copy)\n",
    "    return list_of_models\n"
   ]
  },
  {
   "cell_type": "code",
   "execution_count": null,
   "metadata": {},
   "outputs": [],
   "source": [
    "nreactions = 20\n",
    "lists_of_models = {}\n",
    "for i in [10,20,30,40,50]:\n",
    "    lists_of_models[i] = degrade_model(model,i,20)\n",
    "    "
   ]
  },
  {
   "cell_type": "code",
   "execution_count": null,
   "metadata": {},
   "outputs": [],
   "source": [
    "lists_of_models = {}\n",
    "lists_of_models[200] = degrade_model(model,200,20)"
   ]
  },
  {
   "cell_type": "code",
   "execution_count": null,
   "metadata": {},
   "outputs": [],
   "source": [
    "import time\n",
    "for model_count in lists_of_models.keys():\n",
    "    start = time.time()\n",
    "    salmonella_ensemble = Ensemble(list_of_models=lists_of_models[model_count],\n",
    "                                        identifier='salmonella_ensemble')\n",
    "    end = time.time()\n",
    "    print(model_count,end - start)\n"
   ]
  },
  {
   "cell_type": "code",
   "execution_count": null,
   "metadata": {},
   "outputs": [],
   "source": [
    "salmonella_ensemble.base_model.objective.expression"
   ]
  },
  {
   "cell_type": "code",
   "execution_count": null,
   "metadata": {},
   "outputs": [],
   "source": [
    "flux_balance.optimize_ensemble(salmonella_ensemble)"
   ]
  }
 ],
 "metadata": {
  "kernelspec": {
   "display_name": "Python 3",
   "language": "python",
   "name": "python3"
  },
  "language_info": {
   "codemirror_mode": {
    "name": "ipython",
    "version": 3
   },
   "file_extension": ".py",
   "mimetype": "text/x-python",
   "name": "python",
   "nbconvert_exporter": "python",
   "pygments_lexer": "ipython3",
   "version": "3.6.5"
  }
 },
 "nbformat": 4,
 "nbformat_minor": 2
}
